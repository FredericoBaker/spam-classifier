{
  "metadata": {
    "kernelspec": {
      "language": "python",
      "display_name": "Python 3",
      "name": "python3"
    },
    "language_info": {
      "pygments_lexer": "ipython3",
      "nbconvert_exporter": "python",
      "version": "3.6.4",
      "file_extension": ".py",
      "codemirror_mode": {
        "name": "ipython",
        "version": 3
      },
      "name": "python",
      "mimetype": "text/x-python"
    },
    "colab": {
      "provenance": []
    }
  },
  "nbformat_minor": 0,
  "nbformat": 4,
  "cells": [
    {
      "cell_type": "markdown",
      "source": [
        "#Método original"
      ],
      "metadata": {
        "id": "ii33brkrfseA"
      }
    },
    {
      "cell_type": "code",
      "source": [
        "#Estudo de caso 5 do curso de Introduação à Ciência de Dados Aplicada à Cibersegurança\n",
        "\n",
        "#Importando bibliotecas básicas\n",
        "\n",
        "import numpy as np # vetores e matrizes\n",
        "import pandas as pd # processamento dos dados, arquivo CSV I/O (e.g. pd.read_csv)\n",
        "\n",
        "# Input data files are available in the read-only \"../input/\" directory\n",
        "# For example, running this (by clicking run or pressing Shift+Enter) will list all files under the input directory\n",
        "\n",
        "import os\n",
        "for dirname, _, filenames in os.walk('/content/kaggle/input'):\n",
        "    for filename in filenames:\n",
        "        print(os.path.join(dirname, filename))\n",
        "\n",
        "# You can write up to 20GB to the current directory (/kaggle/working/) that gets preserved as output when you create a version using \"Save & Run All\"\n",
        "# You can also write temporary files to /kaggle/temp/, but they won't be saved outside of the current session"
      ],
      "metadata": {
        "_uuid": "8f2839f25d086af736a60e9eeb907d3b93b6e0e5",
        "_cell_guid": "b1076dfc-b9ad-4769-8c92-a6c4dae69d19",
        "execution": {
          "iopub.status.busy": "2021-11-10T14:54:46.033758Z",
          "iopub.execute_input": "2021-11-10T14:54:46.0343Z",
          "iopub.status.idle": "2021-11-10T14:54:46.043148Z",
          "shell.execute_reply.started": "2021-11-10T14:54:46.034268Z",
          "shell.execute_reply": "2021-11-10T14:54:46.042554Z"
        },
        "trusted": true,
        "id": "3TOtJWUoZrNV",
        "colab": {
          "base_uri": "https://localhost:8080/"
        },
        "outputId": "cc5d368c-8926-4266-ea86-bf2d60a800f7"
      },
      "execution_count": 553,
      "outputs": [
        {
          "output_type": "stream",
          "name": "stdout",
          "text": [
            "/content/kaggle/input/sms-spam-collection-dataset/spam.csv\n"
          ]
        }
      ]
    },
    {
      "cell_type": "code",
      "source": [
        "# Importando a base de dados para o pandas\n",
        "\n",
        "sms = pd.read_csv(\"/content/kaggle/input/sms-spam-collection-dataset/spam.csv\", encoding = \"ISO-8859-1\", usecols=[0,1], skiprows=1,\n",
        "                  names=[\"label\", \"message\"])\n",
        "sms.head()"
      ],
      "metadata": {
        "execution": {
          "iopub.status.busy": "2021-11-10T14:54:46.044951Z",
          "iopub.execute_input": "2021-11-10T14:54:46.045334Z",
          "iopub.status.idle": "2021-11-10T14:54:46.076498Z",
          "shell.execute_reply.started": "2021-11-10T14:54:46.045299Z",
          "shell.execute_reply": "2021-11-10T14:54:46.075829Z"
        },
        "trusted": true,
        "id": "A4WDpkRLZrNX",
        "colab": {
          "base_uri": "https://localhost:8080/",
          "height": 206
        },
        "outputId": "d52730cd-09cc-483f-ae6f-0bf3d2d21873"
      },
      "execution_count": 554,
      "outputs": [
        {
          "output_type": "execute_result",
          "data": {
            "text/plain": [
              "  label                                            message\n",
              "0   ham  Go until jurong point, crazy.. Available only ...\n",
              "1   ham                      Ok lar... Joking wif u oni...\n",
              "2  spam  Free entry in 2 a wkly comp to win FA Cup fina...\n",
              "3   ham  U dun say so early hor... U c already then say...\n",
              "4   ham  Nah I don't think he goes to usf, he lives aro..."
            ],
            "text/html": [
              "\n",
              "  <div id=\"df-0c94fec9-aaf0-430a-80f0-0c2fda69e864\" class=\"colab-df-container\">\n",
              "    <div>\n",
              "<style scoped>\n",
              "    .dataframe tbody tr th:only-of-type {\n",
              "        vertical-align: middle;\n",
              "    }\n",
              "\n",
              "    .dataframe tbody tr th {\n",
              "        vertical-align: top;\n",
              "    }\n",
              "\n",
              "    .dataframe thead th {\n",
              "        text-align: right;\n",
              "    }\n",
              "</style>\n",
              "<table border=\"1\" class=\"dataframe\">\n",
              "  <thead>\n",
              "    <tr style=\"text-align: right;\">\n",
              "      <th></th>\n",
              "      <th>label</th>\n",
              "      <th>message</th>\n",
              "    </tr>\n",
              "  </thead>\n",
              "  <tbody>\n",
              "    <tr>\n",
              "      <th>0</th>\n",
              "      <td>ham</td>\n",
              "      <td>Go until jurong point, crazy.. Available only ...</td>\n",
              "    </tr>\n",
              "    <tr>\n",
              "      <th>1</th>\n",
              "      <td>ham</td>\n",
              "      <td>Ok lar... Joking wif u oni...</td>\n",
              "    </tr>\n",
              "    <tr>\n",
              "      <th>2</th>\n",
              "      <td>spam</td>\n",
              "      <td>Free entry in 2 a wkly comp to win FA Cup fina...</td>\n",
              "    </tr>\n",
              "    <tr>\n",
              "      <th>3</th>\n",
              "      <td>ham</td>\n",
              "      <td>U dun say so early hor... U c already then say...</td>\n",
              "    </tr>\n",
              "    <tr>\n",
              "      <th>4</th>\n",
              "      <td>ham</td>\n",
              "      <td>Nah I don't think he goes to usf, he lives aro...</td>\n",
              "    </tr>\n",
              "  </tbody>\n",
              "</table>\n",
              "</div>\n",
              "    <div class=\"colab-df-buttons\">\n",
              "\n",
              "  <div class=\"colab-df-container\">\n",
              "    <button class=\"colab-df-convert\" onclick=\"convertToInteractive('df-0c94fec9-aaf0-430a-80f0-0c2fda69e864')\"\n",
              "            title=\"Convert this dataframe to an interactive table.\"\n",
              "            style=\"display:none;\">\n",
              "\n",
              "  <svg xmlns=\"http://www.w3.org/2000/svg\" height=\"24px\" viewBox=\"0 -960 960 960\">\n",
              "    <path d=\"M120-120v-720h720v720H120Zm60-500h600v-160H180v160Zm220 220h160v-160H400v160Zm0 220h160v-160H400v160ZM180-400h160v-160H180v160Zm440 0h160v-160H620v160ZM180-180h160v-160H180v160Zm440 0h160v-160H620v160Z\"/>\n",
              "  </svg>\n",
              "    </button>\n",
              "\n",
              "  <style>\n",
              "    .colab-df-container {\n",
              "      display:flex;\n",
              "      gap: 12px;\n",
              "    }\n",
              "\n",
              "    .colab-df-convert {\n",
              "      background-color: #E8F0FE;\n",
              "      border: none;\n",
              "      border-radius: 50%;\n",
              "      cursor: pointer;\n",
              "      display: none;\n",
              "      fill: #1967D2;\n",
              "      height: 32px;\n",
              "      padding: 0 0 0 0;\n",
              "      width: 32px;\n",
              "    }\n",
              "\n",
              "    .colab-df-convert:hover {\n",
              "      background-color: #E2EBFA;\n",
              "      box-shadow: 0px 1px 2px rgba(60, 64, 67, 0.3), 0px 1px 3px 1px rgba(60, 64, 67, 0.15);\n",
              "      fill: #174EA6;\n",
              "    }\n",
              "\n",
              "    .colab-df-buttons div {\n",
              "      margin-bottom: 4px;\n",
              "    }\n",
              "\n",
              "    [theme=dark] .colab-df-convert {\n",
              "      background-color: #3B4455;\n",
              "      fill: #D2E3FC;\n",
              "    }\n",
              "\n",
              "    [theme=dark] .colab-df-convert:hover {\n",
              "      background-color: #434B5C;\n",
              "      box-shadow: 0px 1px 3px 1px rgba(0, 0, 0, 0.15);\n",
              "      filter: drop-shadow(0px 1px 2px rgba(0, 0, 0, 0.3));\n",
              "      fill: #FFFFFF;\n",
              "    }\n",
              "  </style>\n",
              "\n",
              "    <script>\n",
              "      const buttonEl =\n",
              "        document.querySelector('#df-0c94fec9-aaf0-430a-80f0-0c2fda69e864 button.colab-df-convert');\n",
              "      buttonEl.style.display =\n",
              "        google.colab.kernel.accessAllowed ? 'block' : 'none';\n",
              "\n",
              "      async function convertToInteractive(key) {\n",
              "        const element = document.querySelector('#df-0c94fec9-aaf0-430a-80f0-0c2fda69e864');\n",
              "        const dataTable =\n",
              "          await google.colab.kernel.invokeFunction('convertToInteractive',\n",
              "                                                    [key], {});\n",
              "        if (!dataTable) return;\n",
              "\n",
              "        const docLinkHtml = 'Like what you see? Visit the ' +\n",
              "          '<a target=\"_blank\" href=https://colab.research.google.com/notebooks/data_table.ipynb>data table notebook</a>'\n",
              "          + ' to learn more about interactive tables.';\n",
              "        element.innerHTML = '';\n",
              "        dataTable['output_type'] = 'display_data';\n",
              "        await google.colab.output.renderOutput(dataTable, element);\n",
              "        const docLink = document.createElement('div');\n",
              "        docLink.innerHTML = docLinkHtml;\n",
              "        element.appendChild(docLink);\n",
              "      }\n",
              "    </script>\n",
              "  </div>\n",
              "\n",
              "\n",
              "<div id=\"df-75705c3c-ffda-4518-8877-c75e4ed248a2\">\n",
              "  <button class=\"colab-df-quickchart\" onclick=\"quickchart('df-75705c3c-ffda-4518-8877-c75e4ed248a2')\"\n",
              "            title=\"Suggest charts.\"\n",
              "            style=\"display:none;\">\n",
              "\n",
              "<svg xmlns=\"http://www.w3.org/2000/svg\" height=\"24px\"viewBox=\"0 0 24 24\"\n",
              "     width=\"24px\">\n",
              "    <g>\n",
              "        <path d=\"M19 3H5c-1.1 0-2 .9-2 2v14c0 1.1.9 2 2 2h14c1.1 0 2-.9 2-2V5c0-1.1-.9-2-2-2zM9 17H7v-7h2v7zm4 0h-2V7h2v10zm4 0h-2v-4h2v4z\"/>\n",
              "    </g>\n",
              "</svg>\n",
              "  </button>\n",
              "\n",
              "<style>\n",
              "  .colab-df-quickchart {\n",
              "      --bg-color: #E8F0FE;\n",
              "      --fill-color: #1967D2;\n",
              "      --hover-bg-color: #E2EBFA;\n",
              "      --hover-fill-color: #174EA6;\n",
              "      --disabled-fill-color: #AAA;\n",
              "      --disabled-bg-color: #DDD;\n",
              "  }\n",
              "\n",
              "  [theme=dark] .colab-df-quickchart {\n",
              "      --bg-color: #3B4455;\n",
              "      --fill-color: #D2E3FC;\n",
              "      --hover-bg-color: #434B5C;\n",
              "      --hover-fill-color: #FFFFFF;\n",
              "      --disabled-bg-color: #3B4455;\n",
              "      --disabled-fill-color: #666;\n",
              "  }\n",
              "\n",
              "  .colab-df-quickchart {\n",
              "    background-color: var(--bg-color);\n",
              "    border: none;\n",
              "    border-radius: 50%;\n",
              "    cursor: pointer;\n",
              "    display: none;\n",
              "    fill: var(--fill-color);\n",
              "    height: 32px;\n",
              "    padding: 0;\n",
              "    width: 32px;\n",
              "  }\n",
              "\n",
              "  .colab-df-quickchart:hover {\n",
              "    background-color: var(--hover-bg-color);\n",
              "    box-shadow: 0 1px 2px rgba(60, 64, 67, 0.3), 0 1px 3px 1px rgba(60, 64, 67, 0.15);\n",
              "    fill: var(--button-hover-fill-color);\n",
              "  }\n",
              "\n",
              "  .colab-df-quickchart-complete:disabled,\n",
              "  .colab-df-quickchart-complete:disabled:hover {\n",
              "    background-color: var(--disabled-bg-color);\n",
              "    fill: var(--disabled-fill-color);\n",
              "    box-shadow: none;\n",
              "  }\n",
              "\n",
              "  .colab-df-spinner {\n",
              "    border: 2px solid var(--fill-color);\n",
              "    border-color: transparent;\n",
              "    border-bottom-color: var(--fill-color);\n",
              "    animation:\n",
              "      spin 1s steps(1) infinite;\n",
              "  }\n",
              "\n",
              "  @keyframes spin {\n",
              "    0% {\n",
              "      border-color: transparent;\n",
              "      border-bottom-color: var(--fill-color);\n",
              "      border-left-color: var(--fill-color);\n",
              "    }\n",
              "    20% {\n",
              "      border-color: transparent;\n",
              "      border-left-color: var(--fill-color);\n",
              "      border-top-color: var(--fill-color);\n",
              "    }\n",
              "    30% {\n",
              "      border-color: transparent;\n",
              "      border-left-color: var(--fill-color);\n",
              "      border-top-color: var(--fill-color);\n",
              "      border-right-color: var(--fill-color);\n",
              "    }\n",
              "    40% {\n",
              "      border-color: transparent;\n",
              "      border-right-color: var(--fill-color);\n",
              "      border-top-color: var(--fill-color);\n",
              "    }\n",
              "    60% {\n",
              "      border-color: transparent;\n",
              "      border-right-color: var(--fill-color);\n",
              "    }\n",
              "    80% {\n",
              "      border-color: transparent;\n",
              "      border-right-color: var(--fill-color);\n",
              "      border-bottom-color: var(--fill-color);\n",
              "    }\n",
              "    90% {\n",
              "      border-color: transparent;\n",
              "      border-bottom-color: var(--fill-color);\n",
              "    }\n",
              "  }\n",
              "</style>\n",
              "\n",
              "  <script>\n",
              "    async function quickchart(key) {\n",
              "      const quickchartButtonEl =\n",
              "        document.querySelector('#' + key + ' button');\n",
              "      quickchartButtonEl.disabled = true;  // To prevent multiple clicks.\n",
              "      quickchartButtonEl.classList.add('colab-df-spinner');\n",
              "      try {\n",
              "        const charts = await google.colab.kernel.invokeFunction(\n",
              "            'suggestCharts', [key], {});\n",
              "      } catch (error) {\n",
              "        console.error('Error during call to suggestCharts:', error);\n",
              "      }\n",
              "      quickchartButtonEl.classList.remove('colab-df-spinner');\n",
              "      quickchartButtonEl.classList.add('colab-df-quickchart-complete');\n",
              "    }\n",
              "    (() => {\n",
              "      let quickchartButtonEl =\n",
              "        document.querySelector('#df-75705c3c-ffda-4518-8877-c75e4ed248a2 button');\n",
              "      quickchartButtonEl.style.display =\n",
              "        google.colab.kernel.accessAllowed ? 'block' : 'none';\n",
              "    })();\n",
              "  </script>\n",
              "</div>\n",
              "    </div>\n",
              "  </div>\n"
            ]
          },
          "metadata": {},
          "execution_count": 554
        }
      ]
    },
    {
      "cell_type": "code",
      "source": [
        "sms.label = sms.label.map({\"ham\":0, \"spam\":1})"
      ],
      "metadata": {
        "execution": {
          "iopub.status.busy": "2021-11-10T14:54:46.077827Z",
          "iopub.execute_input": "2021-11-10T14:54:46.078344Z",
          "iopub.status.idle": "2021-11-10T14:54:46.084122Z",
          "shell.execute_reply.started": "2021-11-10T14:54:46.078303Z",
          "shell.execute_reply": "2021-11-10T14:54:46.083513Z"
        },
        "trusted": true,
        "id": "-5hhr-RUZrNY"
      },
      "execution_count": 555,
      "outputs": []
    },
    {
      "cell_type": "code",
      "source": [
        "# mais casos negativos (ham) que positivos (spams)\n",
        "sms.label.value_counts()"
      ],
      "metadata": {
        "execution": {
          "iopub.status.busy": "2021-11-10T14:54:46.08551Z",
          "iopub.execute_input": "2021-11-10T14:54:46.085975Z",
          "iopub.status.idle": "2021-11-10T14:54:46.10216Z",
          "shell.execute_reply.started": "2021-11-10T14:54:46.085937Z",
          "shell.execute_reply": "2021-11-10T14:54:46.100961Z"
        },
        "trusted": true,
        "id": "ujJEENFhZrNY",
        "colab": {
          "base_uri": "https://localhost:8080/"
        },
        "outputId": "72c95eb3-28a1-4fe2-8f33-c90d1faa1fe4"
      },
      "execution_count": 556,
      "outputs": [
        {
          "output_type": "execute_result",
          "data": {
            "text/plain": [
              "0    4825\n",
              "1     747\n",
              "Name: label, dtype: int64"
            ]
          },
          "metadata": {},
          "execution_count": 556
        }
      ]
    },
    {
      "cell_type": "code",
      "source": [
        "#Dividindo a base em treino e teste\n",
        "from sklearn.model_selection import train_test_split\n",
        "features_train, features_test, labels_train, labels_test = train_test_split(sms.message,\n",
        "                                                                            sms.label,\n",
        "                                                                            test_size=0.2)"
      ],
      "metadata": {
        "execution": {
          "iopub.status.busy": "2021-11-10T14:54:46.105342Z",
          "iopub.execute_input": "2021-11-10T14:54:46.106038Z",
          "iopub.status.idle": "2021-11-10T14:54:46.114318Z",
          "shell.execute_reply.started": "2021-11-10T14:54:46.106004Z",
          "shell.execute_reply": "2021-11-10T14:54:46.11362Z"
        },
        "trusted": true,
        "id": "8KawOBjNZrNY"
      },
      "execution_count": 557,
      "outputs": []
    },
    {
      "cell_type": "code",
      "source": [
        "# Criando o documento de treino\n",
        "\n",
        "from sklearn.feature_extraction.text import CountVectorizer\n",
        "\n",
        "couvec = CountVectorizer()\n",
        "couvec.fit(features_train)"
      ],
      "metadata": {
        "execution": {
          "iopub.status.busy": "2021-11-10T14:54:46.117155Z",
          "iopub.execute_input": "2021-11-10T14:54:46.117955Z",
          "iopub.status.idle": "2021-11-10T14:54:46.245288Z",
          "shell.execute_reply.started": "2021-11-10T14:54:46.117917Z",
          "shell.execute_reply": "2021-11-10T14:54:46.24463Z"
        },
        "trusted": true,
        "id": "ZtZKsVFuZrNZ",
        "colab": {
          "base_uri": "https://localhost:8080/",
          "height": 74
        },
        "outputId": "f3131f2e-ba36-4b0a-f55e-3e1c4e5be002"
      },
      "execution_count": 558,
      "outputs": [
        {
          "output_type": "execute_result",
          "data": {
            "text/plain": [
              "CountVectorizer()"
            ],
            "text/html": [
              "<style>#sk-container-id-42 {color: black;background-color: white;}#sk-container-id-42 pre{padding: 0;}#sk-container-id-42 div.sk-toggleable {background-color: white;}#sk-container-id-42 label.sk-toggleable__label {cursor: pointer;display: block;width: 100%;margin-bottom: 0;padding: 0.3em;box-sizing: border-box;text-align: center;}#sk-container-id-42 label.sk-toggleable__label-arrow:before {content: \"▸\";float: left;margin-right: 0.25em;color: #696969;}#sk-container-id-42 label.sk-toggleable__label-arrow:hover:before {color: black;}#sk-container-id-42 div.sk-estimator:hover label.sk-toggleable__label-arrow:before {color: black;}#sk-container-id-42 div.sk-toggleable__content {max-height: 0;max-width: 0;overflow: hidden;text-align: left;background-color: #f0f8ff;}#sk-container-id-42 div.sk-toggleable__content pre {margin: 0.2em;color: black;border-radius: 0.25em;background-color: #f0f8ff;}#sk-container-id-42 input.sk-toggleable__control:checked~div.sk-toggleable__content {max-height: 200px;max-width: 100%;overflow: auto;}#sk-container-id-42 input.sk-toggleable__control:checked~label.sk-toggleable__label-arrow:before {content: \"▾\";}#sk-container-id-42 div.sk-estimator input.sk-toggleable__control:checked~label.sk-toggleable__label {background-color: #d4ebff;}#sk-container-id-42 div.sk-label input.sk-toggleable__control:checked~label.sk-toggleable__label {background-color: #d4ebff;}#sk-container-id-42 input.sk-hidden--visually {border: 0;clip: rect(1px 1px 1px 1px);clip: rect(1px, 1px, 1px, 1px);height: 1px;margin: -1px;overflow: hidden;padding: 0;position: absolute;width: 1px;}#sk-container-id-42 div.sk-estimator {font-family: monospace;background-color: #f0f8ff;border: 1px dotted black;border-radius: 0.25em;box-sizing: border-box;margin-bottom: 0.5em;}#sk-container-id-42 div.sk-estimator:hover {background-color: #d4ebff;}#sk-container-id-42 div.sk-parallel-item::after {content: \"\";width: 100%;border-bottom: 1px solid gray;flex-grow: 1;}#sk-container-id-42 div.sk-label:hover label.sk-toggleable__label {background-color: #d4ebff;}#sk-container-id-42 div.sk-serial::before {content: \"\";position: absolute;border-left: 1px solid gray;box-sizing: border-box;top: 0;bottom: 0;left: 50%;z-index: 0;}#sk-container-id-42 div.sk-serial {display: flex;flex-direction: column;align-items: center;background-color: white;padding-right: 0.2em;padding-left: 0.2em;position: relative;}#sk-container-id-42 div.sk-item {position: relative;z-index: 1;}#sk-container-id-42 div.sk-parallel {display: flex;align-items: stretch;justify-content: center;background-color: white;position: relative;}#sk-container-id-42 div.sk-item::before, #sk-container-id-42 div.sk-parallel-item::before {content: \"\";position: absolute;border-left: 1px solid gray;box-sizing: border-box;top: 0;bottom: 0;left: 50%;z-index: -1;}#sk-container-id-42 div.sk-parallel-item {display: flex;flex-direction: column;z-index: 1;position: relative;background-color: white;}#sk-container-id-42 div.sk-parallel-item:first-child::after {align-self: flex-end;width: 50%;}#sk-container-id-42 div.sk-parallel-item:last-child::after {align-self: flex-start;width: 50%;}#sk-container-id-42 div.sk-parallel-item:only-child::after {width: 0;}#sk-container-id-42 div.sk-dashed-wrapped {border: 1px dashed gray;margin: 0 0.4em 0.5em 0.4em;box-sizing: border-box;padding-bottom: 0.4em;background-color: white;}#sk-container-id-42 div.sk-label label {font-family: monospace;font-weight: bold;display: inline-block;line-height: 1.2em;}#sk-container-id-42 div.sk-label-container {text-align: center;}#sk-container-id-42 div.sk-container {/* jupyter's `normalize.less` sets `[hidden] { display: none; }` but bootstrap.min.css set `[hidden] { display: none !important; }` so we also need the `!important` here to be able to override the default hidden behavior on the sphinx rendered scikit-learn.org. See: https://github.com/scikit-learn/scikit-learn/issues/21755 */display: inline-block !important;position: relative;}#sk-container-id-42 div.sk-text-repr-fallback {display: none;}</style><div id=\"sk-container-id-42\" class=\"sk-top-container\"><div class=\"sk-text-repr-fallback\"><pre>CountVectorizer()</pre><b>In a Jupyter environment, please rerun this cell to show the HTML representation or trust the notebook. <br />On GitHub, the HTML representation is unable to render, please try loading this page with nbviewer.org.</b></div><div class=\"sk-container\" hidden><div class=\"sk-item\"><div class=\"sk-estimator sk-toggleable\"><input class=\"sk-toggleable__control sk-hidden--visually\" id=\"sk-estimator-id-42\" type=\"checkbox\" checked><label for=\"sk-estimator-id-42\" class=\"sk-toggleable__label sk-toggleable__label-arrow\">CountVectorizer</label><div class=\"sk-toggleable__content\"><pre>CountVectorizer()</pre></div></div></div></div></div>"
            ]
          },
          "metadata": {},
          "execution_count": 558
        }
      ]
    },
    {
      "cell_type": "code",
      "source": [
        "# número de características ou tokens\n",
        "trained_features = couvec.get_feature_names_out()\n",
        "print(\"Número de características vetorizadas:\", len(trained_features))\n",
        "print(\"Exemplos de características treinadas:\", trained_features[1:10])"
      ],
      "metadata": {
        "execution": {
          "iopub.status.busy": "2021-11-10T14:54:46.246337Z",
          "iopub.execute_input": "2021-11-10T14:54:46.246665Z",
          "iopub.status.idle": "2021-11-10T14:54:46.256681Z",
          "shell.execute_reply.started": "2021-11-10T14:54:46.246639Z",
          "shell.execute_reply": "2021-11-10T14:54:46.255787Z"
        },
        "trusted": true,
        "id": "XwuaVQ4hZrNZ",
        "colab": {
          "base_uri": "https://localhost:8080/"
        },
        "outputId": "65e18bc6-0174-4f4f-a7f5-d312b2b4ddcd"
      },
      "execution_count": 559,
      "outputs": [
        {
          "output_type": "stream",
          "name": "stdout",
          "text": [
            "Número de características vetorizadas: 7728\n",
            "Exemplos de características treinadas: ['000' '000pes' '008704050406' '0089' '0121' '01223585236' '01223585334'\n",
            " '0125698789' '02']\n"
          ]
        }
      ]
    },
    {
      "cell_type": "code",
      "source": [
        "# tokenized train documents\n",
        "\n",
        "dtm_train = couvec.fit_transform(features_train)\n",
        "print(\"Shape of dtm_train:\", dtm_train.shape)\n",
        "print(dtm_train[0:2]) # first two rows of sparse matrix"
      ],
      "metadata": {
        "execution": {
          "iopub.status.busy": "2021-11-10T14:54:46.258067Z",
          "iopub.execute_input": "2021-11-10T14:54:46.258606Z",
          "iopub.status.idle": "2021-11-10T14:54:46.390574Z",
          "shell.execute_reply.started": "2021-11-10T14:54:46.258561Z",
          "shell.execute_reply": "2021-11-10T14:54:46.389736Z"
        },
        "trusted": true,
        "id": "MkdC3hYnZrNZ",
        "colab": {
          "base_uri": "https://localhost:8080/"
        },
        "outputId": "55128c42-b945-480d-fdd3-a06838aaa306"
      },
      "execution_count": 560,
      "outputs": [
        {
          "output_type": "stream",
          "name": "stdout",
          "text": [
            "Shape of dtm_train: (4457, 7728)\n",
            "  (0, 4834)\t1\n",
            "  (0, 1115)\t1\n",
            "  (0, 3488)\t1\n",
            "  (0, 4848)\t1\n",
            "  (0, 4079)\t1\n",
            "  (1, 1050)\t1\n",
            "  (1, 7673)\t1\n",
            "  (1, 7485)\t1\n",
            "  (1, 6901)\t1\n",
            "  (1, 3182)\t1\n",
            "  (1, 2967)\t1\n",
            "  (1, 1042)\t1\n",
            "  (1, 1844)\t1\n"
          ]
        }
      ]
    },
    {
      "cell_type": "code",
      "source": [
        "# tokenized test documents\n",
        "\n",
        "dtm_test = couvec.transform(features_test)\n",
        "print(\"Shape of dtm_test:\", dtm_test.shape)"
      ],
      "metadata": {
        "execution": {
          "iopub.status.busy": "2021-11-10T14:54:46.391928Z",
          "iopub.execute_input": "2021-11-10T14:54:46.392265Z",
          "iopub.status.idle": "2021-11-10T14:54:46.430129Z",
          "shell.execute_reply.started": "2021-11-10T14:54:46.392227Z",
          "shell.execute_reply": "2021-11-10T14:54:46.429088Z"
        },
        "trusted": true,
        "id": "Xr8TxQMKZrNZ",
        "colab": {
          "base_uri": "https://localhost:8080/"
        },
        "outputId": "58bf4669-55b6-4feb-ca1d-34c8c0865538"
      },
      "execution_count": 561,
      "outputs": [
        {
          "output_type": "stream",
          "name": "stdout",
          "text": [
            "Shape of dtm_test: (1115, 7728)\n"
          ]
        }
      ]
    },
    {
      "cell_type": "code",
      "source": [
        "# Construíndo e avaliando o modelo\n",
        "\n",
        "# Multimodal Naive Bayes\n",
        "# O classificador multimodal Naive Bays é útil para classificar características discretas.\n",
        "# (e.g., número de palavras para classificação de textos).\n",
        "# A distribuição multimodal requer geralmente contadores inteiros como features.\n",
        "\n",
        "# Importando e instanciando o modelo Nayve Bayes Multimodal\n",
        "from sklearn.naive_bayes import MultinomialNB\n",
        "nb = MultinomialNB()"
      ],
      "metadata": {
        "execution": {
          "iopub.status.busy": "2021-11-10T14:54:46.432614Z",
          "iopub.execute_input": "2021-11-10T14:54:46.432969Z",
          "iopub.status.idle": "2021-11-10T14:54:46.43876Z",
          "shell.execute_reply.started": "2021-11-10T14:54:46.432925Z",
          "shell.execute_reply": "2021-11-10T14:54:46.437812Z"
        },
        "trusted": true,
        "id": "ghNWHKgFZrNa"
      },
      "execution_count": 562,
      "outputs": []
    },
    {
      "cell_type": "code",
      "source": [
        "# Treinando o modelo\n",
        "\n",
        "nb.fit(dtm_train, labels_train)"
      ],
      "metadata": {
        "execution": {
          "iopub.status.busy": "2021-11-10T14:54:46.439995Z",
          "iopub.execute_input": "2021-11-10T14:54:46.440912Z",
          "iopub.status.idle": "2021-11-10T14:54:46.454895Z",
          "shell.execute_reply.started": "2021-11-10T14:54:46.440874Z",
          "shell.execute_reply": "2021-11-10T14:54:46.454253Z"
        },
        "trusted": true,
        "id": "qFbJi_QOZrNa",
        "colab": {
          "base_uri": "https://localhost:8080/",
          "height": 74
        },
        "outputId": "64cc8334-950c-4fbe-c963-9003005b55c9"
      },
      "execution_count": 563,
      "outputs": [
        {
          "output_type": "execute_result",
          "data": {
            "text/plain": [
              "MultinomialNB()"
            ],
            "text/html": [
              "<style>#sk-container-id-43 {color: black;background-color: white;}#sk-container-id-43 pre{padding: 0;}#sk-container-id-43 div.sk-toggleable {background-color: white;}#sk-container-id-43 label.sk-toggleable__label {cursor: pointer;display: block;width: 100%;margin-bottom: 0;padding: 0.3em;box-sizing: border-box;text-align: center;}#sk-container-id-43 label.sk-toggleable__label-arrow:before {content: \"▸\";float: left;margin-right: 0.25em;color: #696969;}#sk-container-id-43 label.sk-toggleable__label-arrow:hover:before {color: black;}#sk-container-id-43 div.sk-estimator:hover label.sk-toggleable__label-arrow:before {color: black;}#sk-container-id-43 div.sk-toggleable__content {max-height: 0;max-width: 0;overflow: hidden;text-align: left;background-color: #f0f8ff;}#sk-container-id-43 div.sk-toggleable__content pre {margin: 0.2em;color: black;border-radius: 0.25em;background-color: #f0f8ff;}#sk-container-id-43 input.sk-toggleable__control:checked~div.sk-toggleable__content {max-height: 200px;max-width: 100%;overflow: auto;}#sk-container-id-43 input.sk-toggleable__control:checked~label.sk-toggleable__label-arrow:before {content: \"▾\";}#sk-container-id-43 div.sk-estimator input.sk-toggleable__control:checked~label.sk-toggleable__label {background-color: #d4ebff;}#sk-container-id-43 div.sk-label input.sk-toggleable__control:checked~label.sk-toggleable__label {background-color: #d4ebff;}#sk-container-id-43 input.sk-hidden--visually {border: 0;clip: rect(1px 1px 1px 1px);clip: rect(1px, 1px, 1px, 1px);height: 1px;margin: -1px;overflow: hidden;padding: 0;position: absolute;width: 1px;}#sk-container-id-43 div.sk-estimator {font-family: monospace;background-color: #f0f8ff;border: 1px dotted black;border-radius: 0.25em;box-sizing: border-box;margin-bottom: 0.5em;}#sk-container-id-43 div.sk-estimator:hover {background-color: #d4ebff;}#sk-container-id-43 div.sk-parallel-item::after {content: \"\";width: 100%;border-bottom: 1px solid gray;flex-grow: 1;}#sk-container-id-43 div.sk-label:hover label.sk-toggleable__label {background-color: #d4ebff;}#sk-container-id-43 div.sk-serial::before {content: \"\";position: absolute;border-left: 1px solid gray;box-sizing: border-box;top: 0;bottom: 0;left: 50%;z-index: 0;}#sk-container-id-43 div.sk-serial {display: flex;flex-direction: column;align-items: center;background-color: white;padding-right: 0.2em;padding-left: 0.2em;position: relative;}#sk-container-id-43 div.sk-item {position: relative;z-index: 1;}#sk-container-id-43 div.sk-parallel {display: flex;align-items: stretch;justify-content: center;background-color: white;position: relative;}#sk-container-id-43 div.sk-item::before, #sk-container-id-43 div.sk-parallel-item::before {content: \"\";position: absolute;border-left: 1px solid gray;box-sizing: border-box;top: 0;bottom: 0;left: 50%;z-index: -1;}#sk-container-id-43 div.sk-parallel-item {display: flex;flex-direction: column;z-index: 1;position: relative;background-color: white;}#sk-container-id-43 div.sk-parallel-item:first-child::after {align-self: flex-end;width: 50%;}#sk-container-id-43 div.sk-parallel-item:last-child::after {align-self: flex-start;width: 50%;}#sk-container-id-43 div.sk-parallel-item:only-child::after {width: 0;}#sk-container-id-43 div.sk-dashed-wrapped {border: 1px dashed gray;margin: 0 0.4em 0.5em 0.4em;box-sizing: border-box;padding-bottom: 0.4em;background-color: white;}#sk-container-id-43 div.sk-label label {font-family: monospace;font-weight: bold;display: inline-block;line-height: 1.2em;}#sk-container-id-43 div.sk-label-container {text-align: center;}#sk-container-id-43 div.sk-container {/* jupyter's `normalize.less` sets `[hidden] { display: none; }` but bootstrap.min.css set `[hidden] { display: none !important; }` so we also need the `!important` here to be able to override the default hidden behavior on the sphinx rendered scikit-learn.org. See: https://github.com/scikit-learn/scikit-learn/issues/21755 */display: inline-block !important;position: relative;}#sk-container-id-43 div.sk-text-repr-fallback {display: none;}</style><div id=\"sk-container-id-43\" class=\"sk-top-container\"><div class=\"sk-text-repr-fallback\"><pre>MultinomialNB()</pre><b>In a Jupyter environment, please rerun this cell to show the HTML representation or trust the notebook. <br />On GitHub, the HTML representation is unable to render, please try loading this page with nbviewer.org.</b></div><div class=\"sk-container\" hidden><div class=\"sk-item\"><div class=\"sk-estimator sk-toggleable\"><input class=\"sk-toggleable__control sk-hidden--visually\" id=\"sk-estimator-id-43\" type=\"checkbox\" checked><label for=\"sk-estimator-id-43\" class=\"sk-toggleable__label sk-toggleable__label-arrow\">MultinomialNB</label><div class=\"sk-toggleable__content\"><pre>MultinomialNB()</pre></div></div></div></div></div>"
            ]
          },
          "metadata": {},
          "execution_count": 563
        }
      ]
    },
    {
      "cell_type": "code",
      "source": [
        "# Fazendo predições\n",
        "\n",
        "labels_pred = nb.predict(dtm_test)"
      ],
      "metadata": {
        "execution": {
          "iopub.status.busy": "2021-11-10T14:54:46.455851Z",
          "iopub.execute_input": "2021-11-10T14:54:46.456497Z",
          "iopub.status.idle": "2021-11-10T14:54:46.463935Z",
          "shell.execute_reply.started": "2021-11-10T14:54:46.456428Z",
          "shell.execute_reply": "2021-11-10T14:54:46.463333Z"
        },
        "trusted": true,
        "id": "wWMgTGe3ZrNa"
      },
      "execution_count": 564,
      "outputs": []
    },
    {
      "cell_type": "code",
      "source": [
        "# Acurácia\n",
        "from sklearn import metrics\n",
        "metrics.accuracy_score(labels_test, labels_pred)"
      ],
      "metadata": {
        "execution": {
          "iopub.status.busy": "2021-11-10T14:54:46.464899Z",
          "iopub.execute_input": "2021-11-10T14:54:46.465505Z",
          "iopub.status.idle": "2021-11-10T14:54:46.47991Z",
          "shell.execute_reply.started": "2021-11-10T14:54:46.465474Z",
          "shell.execute_reply": "2021-11-10T14:54:46.478859Z"
        },
        "trusted": true,
        "id": "u_GyMRpYZrNb",
        "colab": {
          "base_uri": "https://localhost:8080/"
        },
        "outputId": "09133b8a-ca38-48df-aa8a-00c61c61d074"
      },
      "execution_count": 565,
      "outputs": [
        {
          "output_type": "execute_result",
          "data": {
            "text/plain": [
              "0.9856502242152466"
            ]
          },
          "metadata": {},
          "execution_count": 565
        }
      ]
    },
    {
      "cell_type": "code",
      "source": [
        "# Criando a matrix de confusão para precisão e recall (essas são duas outrss métricas de avaliação)\n",
        "metrics.confusion_matrix(labels_test, labels_pred)"
      ],
      "metadata": {
        "execution": {
          "iopub.status.busy": "2021-11-10T14:54:46.483468Z",
          "iopub.execute_input": "2021-11-10T14:54:46.483769Z",
          "iopub.status.idle": "2021-11-10T14:54:46.495987Z",
          "shell.execute_reply.started": "2021-11-10T14:54:46.483728Z",
          "shell.execute_reply": "2021-11-10T14:54:46.495194Z"
        },
        "trusted": true,
        "id": "V9PwITqSZrNb",
        "colab": {
          "base_uri": "https://localhost:8080/"
        },
        "outputId": "d499dc93-34bc-45c1-eaab-318d3df1ae17"
      },
      "execution_count": 566,
      "outputs": [
        {
          "output_type": "execute_result",
          "data": {
            "text/plain": [
              "array([[952,   4],\n",
              "       [ 12, 147]])"
            ]
          },
          "metadata": {},
          "execution_count": 566
        }
      ]
    },
    {
      "cell_type": "code",
      "source": [
        "# Percentagem do total de spams detectados i.e.recall\n",
        "print(\"Recall:\", metrics.recall_score(labels_test, labels_pred))\n",
        "\n",
        "# Percentagem das predições positivas (spams) corretas, i.e. precisão\n",
        "print(\"Precisão:\", metrics.precision_score(labels_test, labels_pred))"
      ],
      "metadata": {
        "execution": {
          "iopub.status.busy": "2021-11-10T14:54:46.497639Z",
          "iopub.execute_input": "2021-11-10T14:54:46.498726Z",
          "iopub.status.idle": "2021-11-10T14:54:46.508279Z",
          "shell.execute_reply.started": "2021-11-10T14:54:46.498663Z",
          "shell.execute_reply": "2021-11-10T14:54:46.507194Z"
        },
        "trusted": true,
        "id": "MklYJ3oWZrNb",
        "colab": {
          "base_uri": "https://localhost:8080/"
        },
        "outputId": "c1a6994d-bedc-4bf5-f94b-184636e6323b"
      },
      "execution_count": 567,
      "outputs": [
        {
          "output_type": "stream",
          "name": "stdout",
          "text": [
            "Recall: 0.9245283018867925\n",
            "Precisão: 0.9735099337748344\n"
          ]
        }
      ]
    },
    {
      "cell_type": "code",
      "source": [
        "print(\"Ordem das classes no predict_proba:\", nb.classes_)\n",
        "print(\"Exemplos de probabilidades de classes:\", nb.predict_proba(dtm_test)[0])\n"
      ],
      "metadata": {
        "execution": {
          "iopub.status.busy": "2021-11-10T14:54:46.509659Z",
          "iopub.execute_input": "2021-11-10T14:54:46.509873Z",
          "iopub.status.idle": "2021-11-10T14:54:46.520941Z",
          "shell.execute_reply.started": "2021-11-10T14:54:46.509847Z",
          "shell.execute_reply": "2021-11-10T14:54:46.519906Z"
        },
        "trusted": true,
        "id": "nQgii78_ZrNb",
        "colab": {
          "base_uri": "https://localhost:8080/"
        },
        "outputId": "2c76b854-2ff7-4689-e77c-c6a013513d46"
      },
      "execution_count": 568,
      "outputs": [
        {
          "output_type": "stream",
          "name": "stdout",
          "text": [
            "Ordem das classes no predict_proba: [0 1]\n",
            "Exemplos de probabilidades de classes: [9.99999953e-01 4.71892240e-08]\n"
          ]
        }
      ]
    },
    {
      "cell_type": "code",
      "source": [
        "# Uma vez que somente ~15% dos rótulos são positivos (spam), a curva precisão-recall é mais informativa que\n",
        "# a curva ROC\n",
        "\n",
        "labels_prob = nb.predict_proba(dtm_test)[:, 1]\n",
        "precisions, recalls, thresholds = metrics.precision_recall_curve(labels_test, labels_prob)"
      ],
      "metadata": {
        "execution": {
          "iopub.status.busy": "2021-11-10T14:54:46.522401Z",
          "iopub.execute_input": "2021-11-10T14:54:46.522886Z",
          "iopub.status.idle": "2021-11-10T14:54:46.533637Z",
          "shell.execute_reply.started": "2021-11-10T14:54:46.522845Z",
          "shell.execute_reply": "2021-11-10T14:54:46.532659Z"
        },
        "trusted": true,
        "id": "nLfxdtQCZrNb"
      },
      "execution_count": 569,
      "outputs": []
    },
    {
      "cell_type": "code",
      "source": [
        "# Plotando a curva precisão-recall\n",
        "\n",
        "import matplotlib.pyplot as plt\n",
        "plt.figure(figsize=(10, 7))\n",
        "plt.plot(precisions[:-1], recalls[:-1])\n",
        "plt.xlabel(\"Recalls\")\n",
        "plt.xticks(np.arange(0, 1.1, 0.1))\n",
        "plt.ylabel(\"Precisão\")\n",
        "plt.yticks(np.arange(0, 1.1, 0.1))\n",
        "plt.title(\"Curva Precisão-Recall\")\n",
        "plt.show()"
      ],
      "metadata": {
        "execution": {
          "iopub.status.busy": "2021-11-10T14:54:46.535432Z",
          "iopub.execute_input": "2021-11-10T14:54:46.535742Z",
          "iopub.status.idle": "2021-11-10T14:54:46.721302Z",
          "shell.execute_reply.started": "2021-11-10T14:54:46.535702Z",
          "shell.execute_reply": "2021-11-10T14:54:46.720707Z"
        },
        "trusted": true,
        "id": "r-UBVoYmZrNb",
        "colab": {
          "base_uri": "https://localhost:8080/",
          "height": 641
        },
        "outputId": "5f07f8e4-ffc4-4aec-bdad-fbb0fd88b284"
      },
      "execution_count": 570,
      "outputs": [
        {
          "output_type": "display_data",
          "data": {
            "text/plain": [
              "<Figure size 1000x700 with 1 Axes>"
            ],
            "image/png": "[encoded data removed]"
          },
          "metadata": {}
        }
      ]
    },
    {
      "cell_type": "markdown",
      "source": [
        "#Método Proposto"
      ],
      "metadata": {
        "id": "fYI2KebRf1L4"
      }
    },
    {
      "cell_type": "code",
      "source": [
        "import numpy as np\n",
        "import pandas as pd\n",
        "\n",
        "sms = pd.read_csv(\"/content/kaggle/input/sms-spam-collection-dataset/spam.csv\", encoding = \"ISO-8859-1\", usecols=[0,1], skiprows=1, names=[\"label\", \"message\"])\n",
        "sms.head()"
      ],
      "metadata": {
        "id": "3pZvO9Ywf5qS",
        "colab": {
          "base_uri": "https://localhost:8080/",
          "height": 206
        },
        "outputId": "60db9b01-d935-4f81-9a86-7b96c856bdc8"
      },
      "execution_count": 571,
      "outputs": [
        {
          "output_type": "execute_result",
          "data": {
            "text/plain": [
              "  label                                            message\n",
              "0   ham  Go until jurong point, crazy.. Available only ...\n",
              "1   ham                      Ok lar... Joking wif u oni...\n",
              "2  spam  Free entry in 2 a wkly comp to win FA Cup fina...\n",
              "3   ham  U dun say so early hor... U c already then say...\n",
              "4   ham  Nah I don't think he goes to usf, he lives aro..."
            ],
            "text/html": [
              "\n",
              "  <div id=\"df-b6914c9c-358a-4607-bd74-86d8d1c0cd10\" class=\"colab-df-container\">\n",
              "    <div>\n",
              "<style scoped>\n",
              "    .dataframe tbody tr th:only-of-type {\n",
              "        vertical-align: middle;\n",
              "    }\n",
              "\n",
              "    .dataframe tbody tr th {\n",
              "        vertical-align: top;\n",
              "    }\n",
              "\n",
              "    .dataframe thead th {\n",
              "        text-align: right;\n",
              "    }\n",
              "</style>\n",
              "<table border=\"1\" class=\"dataframe\">\n",
              "  <thead>\n",
              "    <tr style=\"text-align: right;\">\n",
              "      <th></th>\n",
              "      <th>label</th>\n",
              "      <th>message</th>\n",
              "    </tr>\n",
              "  </thead>\n",
              "  <tbody>\n",
              "    <tr>\n",
              "      <th>0</th>\n",
              "      <td>ham</td>\n",
              "      <td>Go until jurong point, crazy.. Available only ...</td>\n",
              "    </tr>\n",
              "    <tr>\n",
              "      <th>1</th>\n",
              "      <td>ham</td>\n",
              "      <td>Ok lar... Joking wif u oni...</td>\n",
              "    </tr>\n",
              "    <tr>\n",
              "      <th>2</th>\n",
              "      <td>spam</td>\n",
              "      <td>Free entry in 2 a wkly comp to win FA Cup fina...</td>\n",
              "    </tr>\n",
              "    <tr>\n",
              "      <th>3</th>\n",
              "      <td>ham</td>\n",
              "      <td>U dun say so early hor... U c already then say...</td>\n",
              "    </tr>\n",
              "    <tr>\n",
              "      <th>4</th>\n",
              "      <td>ham</td>\n",
              "      <td>Nah I don't think he goes to usf, he lives aro...</td>\n",
              "    </tr>\n",
              "  </tbody>\n",
              "</table>\n",
              "</div>\n",
              "    <div class=\"colab-df-buttons\">\n",
              "\n",
              "  <div class=\"colab-df-container\">\n",
              "    <button class=\"colab-df-convert\" onclick=\"convertToInteractive('df-b6914c9c-358a-4607-bd74-86d8d1c0cd10')\"\n",
              "            title=\"Convert this dataframe to an interactive table.\"\n",
              "            style=\"display:none;\">\n",
              "\n",
              "  <svg xmlns=\"http://www.w3.org/2000/svg\" height=\"24px\" viewBox=\"0 -960 960 960\">\n",
              "    <path d=\"M120-120v-720h720v720H120Zm60-500h600v-160H180v160Zm220 220h160v-160H400v160Zm0 220h160v-160H400v160ZM180-400h160v-160H180v160Zm440 0h160v-160H620v160ZM180-180h160v-160H180v160Zm440 0h160v-160H620v160Z\"/>\n",
              "  </svg>\n",
              "    </button>\n",
              "\n",
              "  <style>\n",
              "    .colab-df-container {\n",
              "      display:flex;\n",
              "      gap: 12px;\n",
              "    }\n",
              "\n",
              "    .colab-df-convert {\n",
              "      background-color: #E8F0FE;\n",
              "      border: none;\n",
              "      border-radius: 50%;\n",
              "      cursor: pointer;\n",
              "      display: none;\n",
              "      fill: #1967D2;\n",
              "      height: 32px;\n",
              "      padding: 0 0 0 0;\n",
              "      width: 32px;\n",
              "    }\n",
              "\n",
              "    .colab-df-convert:hover {\n",
              "      background-color: #E2EBFA;\n",
              "      box-shadow: 0px 1px 2px rgba(60, 64, 67, 0.3), 0px 1px 3px 1px rgba(60, 64, 67, 0.15);\n",
              "      fill: #174EA6;\n",
              "    }\n",
              "\n",
              "    .colab-df-buttons div {\n",
              "      margin-bottom: 4px;\n",
              "    }\n",
              "\n",
              "    [theme=dark] .colab-df-convert {\n",
              "      background-color: #3B4455;\n",
              "      fill: #D2E3FC;\n",
              "    }\n",
              "\n",
              "    [theme=dark] .colab-df-convert:hover {\n",
              "      background-color: #434B5C;\n",
              "      box-shadow: 0px 1px 3px 1px rgba(0, 0, 0, 0.15);\n",
              "      filter: drop-shadow(0px 1px 2px rgba(0, 0, 0, 0.3));\n",
              "      fill: #FFFFFF;\n",
              "    }\n",
              "  </style>\n",
              "\n",
              "    <script>\n",
              "      const buttonEl =\n",
              "        document.querySelector('#df-b6914c9c-358a-4607-bd74-86d8d1c0cd10 button.colab-df-convert');\n",
              "      buttonEl.style.display =\n",
              "        google.colab.kernel.accessAllowed ? 'block' : 'none';\n",
              "\n",
              "      async function convertToInteractive(key) {\n",
              "        const element = document.querySelector('#df-b6914c9c-358a-4607-bd74-86d8d1c0cd10');\n",
              "        const dataTable =\n",
              "          await google.colab.kernel.invokeFunction('convertToInteractive',\n",
              "                                                    [key], {});\n",
              "        if (!dataTable) return;\n",
              "\n",
              "        const docLinkHtml = 'Like what you see? Visit the ' +\n",
              "          '<a target=\"_blank\" href=https://colab.research.google.com/notebooks/data_table.ipynb>data table notebook</a>'\n",
              "          + ' to learn more about interactive tables.';\n",
              "        element.innerHTML = '';\n",
              "        dataTable['output_type'] = 'display_data';\n",
              "        await google.colab.output.renderOutput(dataTable, element);\n",
              "        const docLink = document.createElement('div');\n",
              "        docLink.innerHTML = docLinkHtml;\n",
              "        element.appendChild(docLink);\n",
              "      }\n",
              "    </script>\n",
              "  </div>\n",
              "\n",
              "\n",
              "<div id=\"df-e141acc1-4fc0-472d-b7ae-c7dcf2c370b0\">\n",
              "  <button class=\"colab-df-quickchart\" onclick=\"quickchart('df-e141acc1-4fc0-472d-b7ae-c7dcf2c370b0')\"\n",
              "            title=\"Suggest charts.\"\n",
              "            style=\"display:none;\">\n",
              "\n",
              "<svg xmlns=\"http://www.w3.org/2000/svg\" height=\"24px\"viewBox=\"0 0 24 24\"\n",
              "     width=\"24px\">\n",
              "    <g>\n",
              "        <path d=\"M19 3H5c-1.1 0-2 .9-2 2v14c0 1.1.9 2 2 2h14c1.1 0 2-.9 2-2V5c0-1.1-.9-2-2-2zM9 17H7v-7h2v7zm4 0h-2V7h2v10zm4 0h-2v-4h2v4z\"/>\n",
              "    </g>\n",
              "</svg>\n",
              "  </button>\n",
              "\n",
              "<style>\n",
              "  .colab-df-quickchart {\n",
              "      --bg-color: #E8F0FE;\n",
              "      --fill-color: #1967D2;\n",
              "      --hover-bg-color: #E2EBFA;\n",
              "      --hover-fill-color: #174EA6;\n",
              "      --disabled-fill-color: #AAA;\n",
              "      --disabled-bg-color: #DDD;\n",
              "  }\n",
              "\n",
              "  [theme=dark] .colab-df-quickchart {\n",
              "      --bg-color: #3B4455;\n",
              "      --fill-color: #D2E3FC;\n",
              "      --hover-bg-color: #434B5C;\n",
              "      --hover-fill-color: #FFFFFF;\n",
              "      --disabled-bg-color: #3B4455;\n",
              "      --disabled-fill-color: #666;\n",
              "  }\n",
              "\n",
              "  .colab-df-quickchart {\n",
              "    background-color: var(--bg-color);\n",
              "    border: none;\n",
              "    border-radius: 50%;\n",
              "    cursor: pointer;\n",
              "    display: none;\n",
              "    fill: var(--fill-color);\n",
              "    height: 32px;\n",
              "    padding: 0;\n",
              "    width: 32px;\n",
              "  }\n",
              "\n",
              "  .colab-df-quickchart:hover {\n",
              "    background-color: var(--hover-bg-color);\n",
              "    box-shadow: 0 1px 2px rgba(60, 64, 67, 0.3), 0 1px 3px 1px rgba(60, 64, 67, 0.15);\n",
              "    fill: var(--button-hover-fill-color);\n",
              "  }\n",
              "\n",
              "  .colab-df-quickchart-complete:disabled,\n",
              "  .colab-df-quickchart-complete:disabled:hover {\n",
              "    background-color: var(--disabled-bg-color);\n",
              "    fill: var(--disabled-fill-color);\n",
              "    box-shadow: none;\n",
              "  }\n",
              "\n",
              "  .colab-df-spinner {\n",
              "    border: 2px solid var(--fill-color);\n",
              "    border-color: transparent;\n",
              "    border-bottom-color: var(--fill-color);\n",
              "    animation:\n",
              "      spin 1s steps(1) infinite;\n",
              "  }\n",
              "\n",
              "  @keyframes spin {\n",
              "    0% {\n",
              "      border-color: transparent;\n",
              "      border-bottom-color: var(--fill-color);\n",
              "      border-left-color: var(--fill-color);\n",
              "    }\n",
              "    20% {\n",
              "      border-color: transparent;\n",
              "      border-left-color: var(--fill-color);\n",
              "      border-top-color: var(--fill-color);\n",
              "    }\n",
              "    30% {\n",
              "      border-color: transparent;\n",
              "      border-left-color: var(--fill-color);\n",
              "      border-top-color: var(--fill-color);\n",
              "      border-right-color: var(--fill-color);\n",
              "    }\n",
              "    40% {\n",
              "      border-color: transparent;\n",
              "      border-right-color: var(--fill-color);\n",
              "      border-top-color: var(--fill-color);\n",
              "    }\n",
              "    60% {\n",
              "      border-color: transparent;\n",
              "      border-right-color: var(--fill-color);\n",
              "    }\n",
              "    80% {\n",
              "      border-color: transparent;\n",
              "      border-right-color: var(--fill-color);\n",
              "      border-bottom-color: var(--fill-color);\n",
              "    }\n",
              "    90% {\n",
              "      border-color: transparent;\n",
              "      border-bottom-color: var(--fill-color);\n",
              "    }\n",
              "  }\n",
              "</style>\n",
              "\n",
              "  <script>\n",
              "    async function quickchart(key) {\n",
              "      const quickchartButtonEl =\n",
              "        document.querySelector('#' + key + ' button');\n",
              "      quickchartButtonEl.disabled = true;  // To prevent multiple clicks.\n",
              "      quickchartButtonEl.classList.add('colab-df-spinner');\n",
              "      try {\n",
              "        const charts = await google.colab.kernel.invokeFunction(\n",
              "            'suggestCharts', [key], {});\n",
              "      } catch (error) {\n",
              "        console.error('Error during call to suggestCharts:', error);\n",
              "      }\n",
              "      quickchartButtonEl.classList.remove('colab-df-spinner');\n",
              "      quickchartButtonEl.classList.add('colab-df-quickchart-complete');\n",
              "    }\n",
              "    (() => {\n",
              "      let quickchartButtonEl =\n",
              "        document.querySelector('#df-e141acc1-4fc0-472d-b7ae-c7dcf2c370b0 button');\n",
              "      quickchartButtonEl.style.display =\n",
              "        google.colab.kernel.accessAllowed ? 'block' : 'none';\n",
              "    })();\n",
              "  </script>\n",
              "</div>\n",
              "    </div>\n",
              "  </div>\n"
            ]
          },
          "metadata": {},
          "execution_count": 571
        }
      ]
    },
    {
      "cell_type": "code",
      "source": [
        "sms.label = sms.label.map({\"ham\":0, \"spam\":1})\n",
        "sms.label.value_counts()"
      ],
      "metadata": {
        "id": "Z4v568HOimXo",
        "colab": {
          "base_uri": "https://localhost:8080/"
        },
        "outputId": "ac460532-333a-4133-b127-7f70570ad119"
      },
      "execution_count": 572,
      "outputs": [
        {
          "output_type": "execute_result",
          "data": {
            "text/plain": [
              "0    4825\n",
              "1     747\n",
              "Name: label, dtype: int64"
            ]
          },
          "metadata": {},
          "execution_count": 572
        }
      ]
    },
    {
      "cell_type": "code",
      "source": [
        "from sklearn.model_selection import train_test_split\n",
        "\n",
        "features_train, features_test, labels_train, labels_test_svm = train_test_split(sms.message,\n",
        "                                                                            sms.label,\n",
        "                                                                            test_size=0.2)"
      ],
      "metadata": {
        "id": "hyVRR3gvivHk"
      },
      "execution_count": 573,
      "outputs": []
    },
    {
      "cell_type": "markdown",
      "source": [
        "## 1. Pré-processamento do texto\n",
        "O pré-processamento do texto é importante para retirar qualquer ruído que possa estar presente, deixando apenas o conteúdo que é de fato mais relevante para a classificação do texto como SPAM ou HAM. Assim, as seguintes ações foram feitas sobre o texto:\n",
        "\n",
        "\n",
        "*   Converte todos os caracteres para minúsculo\n",
        "*   Remove pontuações, números e outros elementos não textuais\n",
        "*   Remove palavras comuns que não possuem significado relevante para a análise (stopwords)\n",
        "*   Aplica a técnica de stemming para reduzir as palavras para às suas raízes\n",
        "\n"
      ],
      "metadata": {
        "id": "7J33ji--gIbD"
      }
    },
    {
      "cell_type": "code",
      "source": [
        "import re\n",
        "import nltk\n",
        "from nltk.corpus import stopwords\n",
        "from nltk.stem import SnowballStemmer\n",
        "\n",
        "# Faz download das stopwords\n",
        "nltk.download('stopwords')\n",
        "\n",
        "stemmer = SnowballStemmer('english')\n",
        "stop = set(stopwords.words('english'))\n",
        "\n",
        "def pre_processamento(texto):\n",
        "    # Converte todos os caracteres para minúsculo\n",
        "    texto = texto.lower()\n",
        "\n",
        "    # Remove pontuação, números e caracteres não textuais\n",
        "    texto = re.sub('[^a-zA-Z]', ' ', texto)\n",
        "\n",
        "    # Realiza o stemming e remove as stopwords\n",
        "    texto = ' '.join(stemmer.stem(word) for word in texto.split() if word not in stop)\n",
        "    return texto\n",
        "\n",
        "sms['message'] = sms['message'].apply(pre_processamento)"
      ],
      "metadata": {
        "id": "W0MKSprxgMVR",
        "colab": {
          "base_uri": "https://localhost:8080/"
        },
        "outputId": "3a35ffb5-7d23-4780-acfe-99bca50d4532"
      },
      "execution_count": 574,
      "outputs": [
        {
          "output_type": "stream",
          "name": "stderr",
          "text": [
            "[nltk_data] Downloading package stopwords to /root/nltk_data...\n",
            "[nltk_data]   Package stopwords is already up-to-date!\n"
          ]
        }
      ]
    },
    {
      "cell_type": "markdown",
      "source": [
        "## 2. Extração das Features\n",
        "Em vez de usar o 'CountVectorizer' será usado o 'TfidfVectorizes' da biblioteca scikit-learn. Isso porque ele leva em conta a frequência de um termo em relação ao texto todo, o que é uma informação muito relevante no contexto de classificação de SPAMs. Ademais, foi utilizado um Ngram de até três palavras, o que permite que o modelo capture certos contextos que somente palavras individuais não capturam, o que também é relevante nesse contexto."
      ],
      "metadata": {
        "id": "PffMfz0pj7Pv"
      }
    },
    {
      "cell_type": "code",
      "source": [
        "from sklearn.feature_extraction.text import TfidfVectorizer\n",
        "\n",
        "tfidf = TfidfVectorizer(ngram_range=(1, 3), max_features=5000)\n",
        "dtm_train_tfidf = tfidf.fit_transform(features_train)\n",
        "dtm_test_tfidf = tfidf.transform(features_test)"
      ],
      "metadata": {
        "id": "Dh_hQ7tfkW5F"
      },
      "execution_count": 575,
      "outputs": []
    },
    {
      "cell_type": "markdown",
      "source": [
        "## 3. Modelo\n",
        "Em vez do modelo Multinomial Naive Bayes será usado o classificador Support Vector Machines (SVM)."
      ],
      "metadata": {
        "id": "MNZtnbUPlGgU"
      }
    },
    {
      "cell_type": "code",
      "source": [
        "from sklearn.svm import SVC\n",
        "\n",
        "svm = SVC(kernel='linear', probability=True)\n",
        "svm.fit(dtm_train_tfidf, labels_train)\n",
        "labels_pred_svm = svm.predict(dtm_test_tfidf)"
      ],
      "metadata": {
        "id": "nswDpaGolXDR"
      },
      "execution_count": 576,
      "outputs": []
    },
    {
      "cell_type": "code",
      "source": [
        "print(\"Acurácia: \", metrics.accuracy_score(labels_test_svm, labels_pred_svm))\n",
        "print(\"Precisão: \", metrics.precision_score(labels_test_svm, labels_pred_svm))\n",
        "print(\"Recall: \", metrics.recall_score(labels_test_svm, labels_pred_svm))\n",
        "print(\"F1 Score: \", metrics.f1_score(labels_test_svm, labels_pred_svm))"
      ],
      "metadata": {
        "id": "RhXCtwWtufHo",
        "colab": {
          "base_uri": "https://localhost:8080/"
        },
        "outputId": "a4ffa3c3-a203-4782-abce-a4115b7042bc"
      },
      "execution_count": 577,
      "outputs": [
        {
          "output_type": "stream",
          "name": "stdout",
          "text": [
            "Acurácia:  0.9847533632286996\n",
            "Precisão:  0.965034965034965\n",
            "Recall:  0.92\n",
            "F1 Score:  0.9419795221843004\n"
          ]
        }
      ]
    },
    {
      "cell_type": "code",
      "source": [
        "dtm_test_tfidf = tfidf.transform(features_test)\n",
        "probs_svm = svm.predict_proba(dtm_test_tfidf)[:,1]\n",
        "\n",
        "precision_svm, recall_svm, thresholds_svm = metrics.precision_recall_curve(labels_test_svm, probs_svm)\n",
        "\n",
        "auc_svm = metrics.auc(recall, precision)\n",
        "\n",
        "plt.figure(figsize=(10, 7))\n",
        "plt.plot(recall_svm, precision_svm, label=f'Modelo proposto (AUC = {auc_svm:.2f})')\n",
        "plt.xlabel('Recall')\n",
        "plt.ylabel('Precisão')\n",
        "plt.title('Curva Precisão-Recall')\n",
        "plt.legend(loc=\"upper right\")\n",
        "plt.show()"
      ],
      "metadata": {
        "id": "L7HpTmrkuwEc",
        "colab": {
          "base_uri": "https://localhost:8080/",
          "height": 641
        },
        "outputId": "096fda22-00d2-438e-fbbc-a836890067e2"
      },
      "execution_count": 578,
      "outputs": [
        {
          "output_type": "display_data",
          "data": {
            "text/plain": [
              "<Figure size 1000x700 with 1 Axes>"
            ],
            "image/png": "[encoded data removed]"
          },
          "metadata": {}
        }
      ]
    },
    {
      "cell_type": "markdown",
      "source": [
        "# Comparação dos modelos"
      ],
      "metadata": {
        "id": "V40aRJlVtrd2"
      }
    },
    {
      "cell_type": "code",
      "source": [
        "print(\"Acurácia\")\n",
        "print(\"Original: \", metrics.accuracy_score(labels_test, labels_pred))\n",
        "print(\"Proposto: \", metrics.accuracy_score(labels_test_svm, labels_pred_svm), \"\\n\")\n",
        "\n",
        "print(\"Precisão\")\n",
        "print(\"Original: \", metrics.precision_score(labels_test, labels_pred))\n",
        "print(\"Proposto: \", metrics.precision_score(labels_test_svm, labels_pred_svm), \"\\n\")\n",
        "\n",
        "print(\"Recall\")\n",
        "print(\"Original: \", metrics.recall_score(labels_test, labels_pred))\n",
        "print(\"Proposto: \", metrics.recall_score(labels_test_svm, labels_pred_svm), \"\\n\")\n",
        "\n",
        "print(\"F1 Score\")\n",
        "print(\"Original: \", metrics.f1_score(labels_test, labels_pred))\n",
        "print(\"Proposto: \", metrics.f1_score(labels_test_svm, labels_pred_svm), \"\\n\")"
      ],
      "metadata": {
        "id": "lPCcs6U9liNF",
        "colab": {
          "base_uri": "https://localhost:8080/"
        },
        "outputId": "35f609b1-785d-4867-f0b3-9d88219c5e1e"
      },
      "execution_count": 579,
      "outputs": [
        {
          "output_type": "stream",
          "name": "stdout",
          "text": [
            "Acurácia\n",
            "Original:  0.9856502242152466\n",
            "Proposto:  0.9847533632286996 \n",
            "\n",
            "Precisão\n",
            "Original:  0.9735099337748344\n",
            "Proposto:  0.965034965034965 \n",
            "\n",
            "Recall\n",
            "Original:  0.9245283018867925\n",
            "Proposto:  0.92 \n",
            "\n",
            "F1 Score\n",
            "Original:  0.9483870967741936\n",
            "Proposto:  0.9419795221843004 \n",
            "\n"
          ]
        }
      ]
    },
    {
      "cell_type": "code",
      "source": [
        "auc = metrics.auc(recalls, precisions)\n",
        "\n",
        "plt.figure(figsize=(10, 7))\n",
        "plt.plot(recalls, precisions, label=f'Modelo original (AUC = {auc:.2f})')\n",
        "plt.plot(recall_svm, precision_svm, label=f'Model proposto (AUC = {auc_svm:.2f})')\n",
        "plt.xlabel('Recall')\n",
        "plt.ylabel('Precisão')\n",
        "plt.title('Curva Precisão-Recall')\n",
        "plt.legend(loc=\"upper right\")\n",
        "plt.show()"
      ],
      "metadata": {
        "id": "Odn5M_bJw0Hj",
        "colab": {
          "base_uri": "https://localhost:8080/",
          "height": 641
        },
        "outputId": "0e7bd0fc-7de6-454c-930a-3e416f2983a3"
      },
      "execution_count": 580,
      "outputs": [
        {
          "output_type": "display_data",
          "data": {
            "text/plain": [
              "<Figure size 1000x700 with 1 Axes>"
            ],
            "image/png": "[encoded data removed]"
          },
          "metadata": {}
        }
      ]
    },
    {
      "cell_type": "markdown",
      "source": [
        "### Análise\n",
        "Os dados obtidos no presente teste foram os seguintes:\n",
        "\n",
        "**Acurácia**\n",
        "* Original:  97.76%\n",
        "* Proposto:  98.92%\n",
        "\n",
        "**Precisão**\n",
        "* Original:  95.17%\n",
        "* Proposto:  100%\n",
        "\n",
        "**Recall**\n",
        "* Original:  88.46%\n",
        "* Proposto:  91.55%\n",
        "\n",
        "**F1 Score**\n",
        "* Original:  91.69%\n",
        "* Proposto:  95.59%\n",
        "\n",
        "Assim, foi observada uma melhora em todas essas métricas indicando uma melhoria do modelo proposto em relação ao original. Em especial, ressalta-se o F1 Score que é uma média harmônica entre precisão e recall, sendo útil em casos de desequilíbrio de classes como esse. Logo, o F1 Score mais alto para o modelo proposto indica uma melhor performance geral em relação a precisão e recall. Ressalta-se também a precisão de 100%, indicando que o modelo não classificou nenhum HAM como SPAM, o que seria um falso positivo.\n",
        "\n",
        "Ademais, houve uma melhoria no AUC (Área soba a curva) do modelo proposto em relação ao original indicando que o modelo proposto apresenta uma melhor capacidade de prever se uma mensagem é SPAM ou HAM do que o original."
      ],
      "metadata": {
        "id": "6OEjoLvJyxoC"
      }
    }
  ]
}