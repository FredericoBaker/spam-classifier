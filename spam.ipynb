{
  "cells": [
    {
      "cell_type": "markdown",
      "metadata": {
        "id": "ii33brkrfseA"
      },
      "source": [
        "# Método original"
      ]
    },
    {
      "cell_type": "code",
      "execution_count": 1,
      "metadata": {
        "_cell_guid": "b1076dfc-b9ad-4769-8c92-a6c4dae69d19",
        "_uuid": "8f2839f25d086af736a60e9eeb907d3b93b6e0e5",
        "colab": {
          "base_uri": "https://localhost:8080/"
        },
        "execution": {
          "iopub.execute_input": "2021-11-10T14:54:46.0343Z",
          "iopub.status.busy": "2021-11-10T14:54:46.033758Z",
          "iopub.status.idle": "2021-11-10T14:54:46.043148Z",
          "shell.execute_reply": "2021-11-10T14:54:46.042554Z",
          "shell.execute_reply.started": "2021-11-10T14:54:46.034268Z"
        },
        "id": "3TOtJWUoZrNV",
        "outputId": "885c9a50-5464-49cd-e6c6-e4db37030023",
        "trusted": true
      },
      "outputs": [],
      "source": [
        "import numpy as np\n",
        "import pandas as pd"
      ]
    },
    {
      "cell_type": "code",
      "execution_count": 3,
      "metadata": {
        "colab": {
          "base_uri": "https://localhost:8080/",
          "height": 206
        },
        "execution": {
          "iopub.execute_input": "2021-11-10T14:54:46.045334Z",
          "iopub.status.busy": "2021-11-10T14:54:46.044951Z",
          "iopub.status.idle": "2021-11-10T14:54:46.076498Z",
          "shell.execute_reply": "2021-11-10T14:54:46.075829Z",
          "shell.execute_reply.started": "2021-11-10T14:54:46.045299Z"
        },
        "id": "A4WDpkRLZrNX",
        "outputId": "633e2de5-7596-4211-a700-c5e9e29a716d",
        "trusted": true
      },
      "outputs": [
        {
          "data": {
            "text/html": [
              "<div>\n",
              "<style scoped>\n",
              "    .dataframe tbody tr th:only-of-type {\n",
              "        vertical-align: middle;\n",
              "    }\n",
              "\n",
              "    .dataframe tbody tr th {\n",
              "        vertical-align: top;\n",
              "    }\n",
              "\n",
              "    .dataframe thead th {\n",
              "        text-align: right;\n",
              "    }\n",
              "</style>\n",
              "<table border=\"1\" class=\"dataframe\">\n",
              "  <thead>\n",
              "    <tr style=\"text-align: right;\">\n",
              "      <th></th>\n",
              "      <th>label</th>\n",
              "      <th>message</th>\n",
              "    </tr>\n",
              "  </thead>\n",
              "  <tbody>\n",
              "    <tr>\n",
              "      <th>0</th>\n",
              "      <td>ham</td>\n",
              "      <td>Go until jurong point, crazy.. Available only ...</td>\n",
              "    </tr>\n",
              "    <tr>\n",
              "      <th>1</th>\n",
              "      <td>ham</td>\n",
              "      <td>Ok lar... Joking wif u oni...</td>\n",
              "    </tr>\n",
              "    <tr>\n",
              "      <th>2</th>\n",
              "      <td>spam</td>\n",
              "      <td>Free entry in 2 a wkly comp to win FA Cup fina...</td>\n",
              "    </tr>\n",
              "    <tr>\n",
              "      <th>3</th>\n",
              "      <td>ham</td>\n",
              "      <td>U dun say so early hor... U c already then say...</td>\n",
              "    </tr>\n",
              "    <tr>\n",
              "      <th>4</th>\n",
              "      <td>ham</td>\n",
              "      <td>Nah I don't think he goes to usf, he lives aro...</td>\n",
              "    </tr>\n",
              "  </tbody>\n",
              "</table>\n",
              "</div>"
            ],
            "text/plain": [
              "  label                                            message\n",
              "0   ham  Go until jurong point, crazy.. Available only ...\n",
              "1   ham                      Ok lar... Joking wif u oni...\n",
              "2  spam  Free entry in 2 a wkly comp to win FA Cup fina...\n",
              "3   ham  U dun say so early hor... U c already then say...\n",
              "4   ham  Nah I don't think he goes to usf, he lives aro..."
            ]
          },
          "execution_count": 3,
          "metadata": {},
          "output_type": "execute_result"
        }
      ],
      "source": [
        "# Importing database\n",
        "\n",
        "sms = pd.read_csv(\"./spam.csv\", encoding = \"ISO-8859-1\", usecols=[0,1], skiprows=1,\n",
        "                  names=[\"label\", \"message\"])\n",
        "sms.head()"
      ]
    },
    {
      "cell_type": "code",
      "execution_count": 4,
      "metadata": {
        "execution": {
          "iopub.execute_input": "2021-11-10T14:54:46.078344Z",
          "iopub.status.busy": "2021-11-10T14:54:46.077827Z",
          "iopub.status.idle": "2021-11-10T14:54:46.084122Z",
          "shell.execute_reply": "2021-11-10T14:54:46.083513Z",
          "shell.execute_reply.started": "2021-11-10T14:54:46.078303Z"
        },
        "id": "-5hhr-RUZrNY",
        "trusted": true
      },
      "outputs": [],
      "source": [
        "sms.label = sms.label.map({\"ham\":0, \"spam\":1})"
      ]
    },
    {
      "cell_type": "code",
      "execution_count": 6,
      "metadata": {
        "colab": {
          "base_uri": "https://localhost:8080/"
        },
        "execution": {
          "iopub.execute_input": "2021-11-10T14:54:46.085975Z",
          "iopub.status.busy": "2021-11-10T14:54:46.08551Z",
          "iopub.status.idle": "2021-11-10T14:54:46.10216Z",
          "shell.execute_reply": "2021-11-10T14:54:46.100961Z",
          "shell.execute_reply.started": "2021-11-10T14:54:46.085937Z"
        },
        "id": "ujJEENFhZrNY",
        "outputId": "ec30ac0d-ff2e-4104-f55a-69847eb48a9c",
        "trusted": true
      },
      "outputs": [
        {
          "data": {
            "text/plain": [
              "label\n",
              "0    4825\n",
              "1     747\n",
              "Name: count, dtype: int64"
            ]
          },
          "execution_count": 6,
          "metadata": {},
          "output_type": "execute_result"
        }
      ],
      "source": [
        "# more negative (ham) than positive cases (spams)\n",
        "sms.label.value_counts()"
      ]
    },
    {
      "cell_type": "code",
      "execution_count": 7,
      "metadata": {
        "execution": {
          "iopub.execute_input": "2021-11-10T14:54:46.106038Z",
          "iopub.status.busy": "2021-11-10T14:54:46.105342Z",
          "iopub.status.idle": "2021-11-10T14:54:46.114318Z",
          "shell.execute_reply": "2021-11-10T14:54:46.11362Z",
          "shell.execute_reply.started": "2021-11-10T14:54:46.106004Z"
        },
        "id": "8KawOBjNZrNY",
        "trusted": true
      },
      "outputs": [],
      "source": [
        "# Spliting data in train and test\n",
        "from sklearn.model_selection import train_test_split\n",
        "features_train, features_test, labels_train, labels_test = train_test_split(sms.message,\n",
        "                                                                            sms.label,\n",
        "                                                                            test_size=0.2)"
      ]
    },
    {
      "cell_type": "code",
      "execution_count": 8,
      "metadata": {
        "colab": {
          "base_uri": "https://localhost:8080/",
          "height": 74
        },
        "execution": {
          "iopub.execute_input": "2021-11-10T14:54:46.117955Z",
          "iopub.status.busy": "2021-11-10T14:54:46.117155Z",
          "iopub.status.idle": "2021-11-10T14:54:46.245288Z",
          "shell.execute_reply": "2021-11-10T14:54:46.24463Z",
          "shell.execute_reply.started": "2021-11-10T14:54:46.117917Z"
        },
        "id": "ZtZKsVFuZrNZ",
        "outputId": "ceddb221-caac-44e6-83be-45ccaf0e51e5",
        "trusted": true
      },
      "outputs": [
        {
          "data": {
            "text/html": [
              "<style>#sk-container-id-1 {color: black;}#sk-container-id-1 pre{padding: 0;}#sk-container-id-1 div.sk-toggleable {background-color: white;}#sk-container-id-1 label.sk-toggleable__label {cursor: pointer;display: block;width: 100%;margin-bottom: 0;padding: 0.3em;box-sizing: border-box;text-align: center;}#sk-container-id-1 label.sk-toggleable__label-arrow:before {content: \"▸\";float: left;margin-right: 0.25em;color: #696969;}#sk-container-id-1 label.sk-toggleable__label-arrow:hover:before {color: black;}#sk-container-id-1 div.sk-estimator:hover label.sk-toggleable__label-arrow:before {color: black;}#sk-container-id-1 div.sk-toggleable__content {max-height: 0;max-width: 0;overflow: hidden;text-align: left;background-color: #f0f8ff;}#sk-container-id-1 div.sk-toggleable__content pre {margin: 0.2em;color: black;border-radius: 0.25em;background-color: #f0f8ff;}#sk-container-id-1 input.sk-toggleable__control:checked~div.sk-toggleable__content {max-height: 200px;max-width: 100%;overflow: auto;}#sk-container-id-1 input.sk-toggleable__control:checked~label.sk-toggleable__label-arrow:before {content: \"▾\";}#sk-container-id-1 div.sk-estimator input.sk-toggleable__control:checked~label.sk-toggleable__label {background-color: #d4ebff;}#sk-container-id-1 div.sk-label input.sk-toggleable__control:checked~label.sk-toggleable__label {background-color: #d4ebff;}#sk-container-id-1 input.sk-hidden--visually {border: 0;clip: rect(1px 1px 1px 1px);clip: rect(1px, 1px, 1px, 1px);height: 1px;margin: -1px;overflow: hidden;padding: 0;position: absolute;width: 1px;}#sk-container-id-1 div.sk-estimator {font-family: monospace;background-color: #f0f8ff;border: 1px dotted black;border-radius: 0.25em;box-sizing: border-box;margin-bottom: 0.5em;}#sk-container-id-1 div.sk-estimator:hover {background-color: #d4ebff;}#sk-container-id-1 div.sk-parallel-item::after {content: \"\";width: 100%;border-bottom: 1px solid gray;flex-grow: 1;}#sk-container-id-1 div.sk-label:hover label.sk-toggleable__label {background-color: #d4ebff;}#sk-container-id-1 div.sk-serial::before {content: \"\";position: absolute;border-left: 1px solid gray;box-sizing: border-box;top: 0;bottom: 0;left: 50%;z-index: 0;}#sk-container-id-1 div.sk-serial {display: flex;flex-direction: column;align-items: center;background-color: white;padding-right: 0.2em;padding-left: 0.2em;position: relative;}#sk-container-id-1 div.sk-item {position: relative;z-index: 1;}#sk-container-id-1 div.sk-parallel {display: flex;align-items: stretch;justify-content: center;background-color: white;position: relative;}#sk-container-id-1 div.sk-item::before, #sk-container-id-1 div.sk-parallel-item::before {content: \"\";position: absolute;border-left: 1px solid gray;box-sizing: border-box;top: 0;bottom: 0;left: 50%;z-index: -1;}#sk-container-id-1 div.sk-parallel-item {display: flex;flex-direction: column;z-index: 1;position: relative;background-color: white;}#sk-container-id-1 div.sk-parallel-item:first-child::after {align-self: flex-end;width: 50%;}#sk-container-id-1 div.sk-parallel-item:last-child::after {align-self: flex-start;width: 50%;}#sk-container-id-1 div.sk-parallel-item:only-child::after {width: 0;}#sk-container-id-1 div.sk-dashed-wrapped {border: 1px dashed gray;margin: 0 0.4em 0.5em 0.4em;box-sizing: border-box;padding-bottom: 0.4em;background-color: white;}#sk-container-id-1 div.sk-label label {font-family: monospace;font-weight: bold;display: inline-block;line-height: 1.2em;}#sk-container-id-1 div.sk-label-container {text-align: center;}#sk-container-id-1 div.sk-container {/* jupyter's `normalize.less` sets `[hidden] { display: none; }` but bootstrap.min.css set `[hidden] { display: none !important; }` so we also need the `!important` here to be able to override the default hidden behavior on the sphinx rendered scikit-learn.org. See: https://github.com/scikit-learn/scikit-learn/issues/21755 */display: inline-block !important;position: relative;}#sk-container-id-1 div.sk-text-repr-fallback {display: none;}</style><div id=\"sk-container-id-1\" class=\"sk-top-container\"><div class=\"sk-text-repr-fallback\"><pre>CountVectorizer()</pre><b>In a Jupyter environment, please rerun this cell to show the HTML representation or trust the notebook. <br />On GitHub, the HTML representation is unable to render, please try loading this page with nbviewer.org.</b></div><div class=\"sk-container\" hidden><div class=\"sk-item\"><div class=\"sk-estimator sk-toggleable\"><input class=\"sk-toggleable__control sk-hidden--visually\" id=\"sk-estimator-id-1\" type=\"checkbox\" checked><label for=\"sk-estimator-id-1\" class=\"sk-toggleable__label sk-toggleable__label-arrow\">CountVectorizer</label><div class=\"sk-toggleable__content\"><pre>CountVectorizer()</pre></div></div></div></div></div>"
            ],
            "text/plain": [
              "CountVectorizer()"
            ]
          },
          "execution_count": 8,
          "metadata": {},
          "output_type": "execute_result"
        }
      ],
      "source": [
        "from sklearn.feature_extraction.text import CountVectorizer\n",
        "\n",
        "couvec = CountVectorizer()\n",
        "couvec.fit(features_train)"
      ]
    },
    {
      "cell_type": "code",
      "execution_count": 9,
      "metadata": {
        "colab": {
          "base_uri": "https://localhost:8080/"
        },
        "execution": {
          "iopub.execute_input": "2021-11-10T14:54:46.246665Z",
          "iopub.status.busy": "2021-11-10T14:54:46.246337Z",
          "iopub.status.idle": "2021-11-10T14:54:46.256681Z",
          "shell.execute_reply": "2021-11-10T14:54:46.255787Z",
          "shell.execute_reply.started": "2021-11-10T14:54:46.246639Z"
        },
        "id": "XwuaVQ4hZrNZ",
        "outputId": "9c1fd254-e2f9-40c0-d825-ca7e0b8ca194",
        "trusted": true
      },
      "outputs": [
        {
          "name": "stdout",
          "output_type": "stream",
          "text": [
            "Número de características vetorizadas: 7634\n",
            "Exemplos de características treinadas: ['000' '000pes' '008704050406' '0089' '0121' '01223585236' '01223585334'\n",
            " '0125698789' '02']\n"
          ]
        }
      ],
      "source": [
        "trained_features = couvec.get_feature_names_out()\n",
        "print(\"Número de características vetorizadas:\", len(trained_features))\n",
        "print(\"Exemplos de características treinadas:\", trained_features[1:10])"
      ]
    },
    {
      "cell_type": "code",
      "execution_count": 10,
      "metadata": {
        "colab": {
          "base_uri": "https://localhost:8080/"
        },
        "execution": {
          "iopub.execute_input": "2021-11-10T14:54:46.258606Z",
          "iopub.status.busy": "2021-11-10T14:54:46.258067Z",
          "iopub.status.idle": "2021-11-10T14:54:46.390574Z",
          "shell.execute_reply": "2021-11-10T14:54:46.389736Z",
          "shell.execute_reply.started": "2021-11-10T14:54:46.258561Z"
        },
        "id": "MkdC3hYnZrNZ",
        "outputId": "406a4509-c9b8-4447-8d1d-50f282dff051",
        "trusted": true
      },
      "outputs": [
        {
          "name": "stdout",
          "output_type": "stream",
          "text": [
            "Shape of dtm_train: (4457, 7634)\n",
            "  (0, 7258)\t1\n",
            "  (0, 4184)\t1\n",
            "  (0, 3228)\t1\n",
            "  (0, 5729)\t1\n",
            "  (0, 2143)\t1\n",
            "  (0, 2382)\t1\n",
            "  (0, 7579)\t1\n",
            "  (0, 3327)\t1\n",
            "  (0, 3713)\t1\n",
            "  (1, 2307)\t1\n",
            "  (1, 3174)\t1\n",
            "  (1, 6695)\t1\n",
            "  (1, 5081)\t1\n",
            "  (1, 6383)\t1\n"
          ]
        }
      ],
      "source": [
        "# tokenized train documents\n",
        "dtm_train = couvec.fit_transform(features_train)\n",
        "print(\"Shape of dtm_train:\", dtm_train.shape)\n",
        "print(dtm_train[0:2]) # first two rows of sparse matrix"
      ]
    },
    {
      "cell_type": "code",
      "execution_count": 11,
      "metadata": {
        "colab": {
          "base_uri": "https://localhost:8080/"
        },
        "execution": {
          "iopub.execute_input": "2021-11-10T14:54:46.392265Z",
          "iopub.status.busy": "2021-11-10T14:54:46.391928Z",
          "iopub.status.idle": "2021-11-10T14:54:46.430129Z",
          "shell.execute_reply": "2021-11-10T14:54:46.429088Z",
          "shell.execute_reply.started": "2021-11-10T14:54:46.392227Z"
        },
        "id": "Xr8TxQMKZrNZ",
        "outputId": "0749823d-85f5-433e-e49f-f0e6a9d1c090",
        "trusted": true
      },
      "outputs": [
        {
          "name": "stdout",
          "output_type": "stream",
          "text": [
            "Shape of dtm_test: (1115, 7634)\n"
          ]
        }
      ],
      "source": [
        "# tokenized test documents\n",
        "\n",
        "dtm_test = couvec.transform(features_test)\n",
        "print(\"Shape of dtm_test:\", dtm_test.shape)"
      ]
    },
    {
      "cell_type": "code",
      "execution_count": 12,
      "metadata": {
        "execution": {
          "iopub.execute_input": "2021-11-10T14:54:46.432969Z",
          "iopub.status.busy": "2021-11-10T14:54:46.432614Z",
          "iopub.status.idle": "2021-11-10T14:54:46.43876Z",
          "shell.execute_reply": "2021-11-10T14:54:46.437812Z",
          "shell.execute_reply.started": "2021-11-10T14:54:46.432925Z"
        },
        "id": "ghNWHKgFZrNa",
        "trusted": true
      },
      "outputs": [],
      "source": [
        "# Building and Evaluating the Model\n",
        "\n",
        "# Multimodal Naive Bayes\n",
        "# The multimodal Naive Bayes classifier is useful for classifying discrete features.\n",
        "# (e.g., word count for text classification).\n",
        "# The multimodal distribution generally requires integer counters as features.\n",
        "\n",
        "# Importing and Instantiating the Multimodal Naive Bayes Model\n",
        "from sklearn.naive_bayes import MultinomialNB\n",
        "nb = MultinomialNB()"
      ]
    },
    {
      "cell_type": "code",
      "execution_count": 13,
      "metadata": {
        "colab": {
          "base_uri": "https://localhost:8080/",
          "height": 74
        },
        "execution": {
          "iopub.execute_input": "2021-11-10T14:54:46.440912Z",
          "iopub.status.busy": "2021-11-10T14:54:46.439995Z",
          "iopub.status.idle": "2021-11-10T14:54:46.454895Z",
          "shell.execute_reply": "2021-11-10T14:54:46.454253Z",
          "shell.execute_reply.started": "2021-11-10T14:54:46.440874Z"
        },
        "id": "qFbJi_QOZrNa",
        "outputId": "c2552ecb-6696-4747-fc8e-fe32775b8c49",
        "trusted": true
      },
      "outputs": [
        {
          "data": {
            "text/html": [
              "<style>#sk-container-id-2 {color: black;}#sk-container-id-2 pre{padding: 0;}#sk-container-id-2 div.sk-toggleable {background-color: white;}#sk-container-id-2 label.sk-toggleable__label {cursor: pointer;display: block;width: 100%;margin-bottom: 0;padding: 0.3em;box-sizing: border-box;text-align: center;}#sk-container-id-2 label.sk-toggleable__label-arrow:before {content: \"▸\";float: left;margin-right: 0.25em;color: #696969;}#sk-container-id-2 label.sk-toggleable__label-arrow:hover:before {color: black;}#sk-container-id-2 div.sk-estimator:hover label.sk-toggleable__label-arrow:before {color: black;}#sk-container-id-2 div.sk-toggleable__content {max-height: 0;max-width: 0;overflow: hidden;text-align: left;background-color: #f0f8ff;}#sk-container-id-2 div.sk-toggleable__content pre {margin: 0.2em;color: black;border-radius: 0.25em;background-color: #f0f8ff;}#sk-container-id-2 input.sk-toggleable__control:checked~div.sk-toggleable__content {max-height: 200px;max-width: 100%;overflow: auto;}#sk-container-id-2 input.sk-toggleable__control:checked~label.sk-toggleable__label-arrow:before {content: \"▾\";}#sk-container-id-2 div.sk-estimator input.sk-toggleable__control:checked~label.sk-toggleable__label {background-color: #d4ebff;}#sk-container-id-2 div.sk-label input.sk-toggleable__control:checked~label.sk-toggleable__label {background-color: #d4ebff;}#sk-container-id-2 input.sk-hidden--visually {border: 0;clip: rect(1px 1px 1px 1px);clip: rect(1px, 1px, 1px, 1px);height: 1px;margin: -1px;overflow: hidden;padding: 0;position: absolute;width: 1px;}#sk-container-id-2 div.sk-estimator {font-family: monospace;background-color: #f0f8ff;border: 1px dotted black;border-radius: 0.25em;box-sizing: border-box;margin-bottom: 0.5em;}#sk-container-id-2 div.sk-estimator:hover {background-color: #d4ebff;}#sk-container-id-2 div.sk-parallel-item::after {content: \"\";width: 100%;border-bottom: 1px solid gray;flex-grow: 1;}#sk-container-id-2 div.sk-label:hover label.sk-toggleable__label {background-color: #d4ebff;}#sk-container-id-2 div.sk-serial::before {content: \"\";position: absolute;border-left: 1px solid gray;box-sizing: border-box;top: 0;bottom: 0;left: 50%;z-index: 0;}#sk-container-id-2 div.sk-serial {display: flex;flex-direction: column;align-items: center;background-color: white;padding-right: 0.2em;padding-left: 0.2em;position: relative;}#sk-container-id-2 div.sk-item {position: relative;z-index: 1;}#sk-container-id-2 div.sk-parallel {display: flex;align-items: stretch;justify-content: center;background-color: white;position: relative;}#sk-container-id-2 div.sk-item::before, #sk-container-id-2 div.sk-parallel-item::before {content: \"\";position: absolute;border-left: 1px solid gray;box-sizing: border-box;top: 0;bottom: 0;left: 50%;z-index: -1;}#sk-container-id-2 div.sk-parallel-item {display: flex;flex-direction: column;z-index: 1;position: relative;background-color: white;}#sk-container-id-2 div.sk-parallel-item:first-child::after {align-self: flex-end;width: 50%;}#sk-container-id-2 div.sk-parallel-item:last-child::after {align-self: flex-start;width: 50%;}#sk-container-id-2 div.sk-parallel-item:only-child::after {width: 0;}#sk-container-id-2 div.sk-dashed-wrapped {border: 1px dashed gray;margin: 0 0.4em 0.5em 0.4em;box-sizing: border-box;padding-bottom: 0.4em;background-color: white;}#sk-container-id-2 div.sk-label label {font-family: monospace;font-weight: bold;display: inline-block;line-height: 1.2em;}#sk-container-id-2 div.sk-label-container {text-align: center;}#sk-container-id-2 div.sk-container {/* jupyter's `normalize.less` sets `[hidden] { display: none; }` but bootstrap.min.css set `[hidden] { display: none !important; }` so we also need the `!important` here to be able to override the default hidden behavior on the sphinx rendered scikit-learn.org. See: https://github.com/scikit-learn/scikit-learn/issues/21755 */display: inline-block !important;position: relative;}#sk-container-id-2 div.sk-text-repr-fallback {display: none;}</style><div id=\"sk-container-id-2\" class=\"sk-top-container\"><div class=\"sk-text-repr-fallback\"><pre>MultinomialNB()</pre><b>In a Jupyter environment, please rerun this cell to show the HTML representation or trust the notebook. <br />On GitHub, the HTML representation is unable to render, please try loading this page with nbviewer.org.</b></div><div class=\"sk-container\" hidden><div class=\"sk-item\"><div class=\"sk-estimator sk-toggleable\"><input class=\"sk-toggleable__control sk-hidden--visually\" id=\"sk-estimator-id-2\" type=\"checkbox\" checked><label for=\"sk-estimator-id-2\" class=\"sk-toggleable__label sk-toggleable__label-arrow\">MultinomialNB</label><div class=\"sk-toggleable__content\"><pre>MultinomialNB()</pre></div></div></div></div></div>"
            ],
            "text/plain": [
              "MultinomialNB()"
            ]
          },
          "execution_count": 13,
          "metadata": {},
          "output_type": "execute_result"
        }
      ],
      "source": [
        "# Training the model\n",
        "\n",
        "nb.fit(dtm_train, labels_train)"
      ]
    },
    {
      "cell_type": "code",
      "execution_count": 14,
      "metadata": {
        "execution": {
          "iopub.execute_input": "2021-11-10T14:54:46.456497Z",
          "iopub.status.busy": "2021-11-10T14:54:46.455851Z",
          "iopub.status.idle": "2021-11-10T14:54:46.463935Z",
          "shell.execute_reply": "2021-11-10T14:54:46.463333Z",
          "shell.execute_reply.started": "2021-11-10T14:54:46.456428Z"
        },
        "id": "wWMgTGe3ZrNa",
        "trusted": true
      },
      "outputs": [],
      "source": [
        "# Making predictions\n",
        "\n",
        "labels_pred = nb.predict(dtm_test)"
      ]
    },
    {
      "cell_type": "code",
      "execution_count": 15,
      "metadata": {
        "colab": {
          "base_uri": "https://localhost:8080/"
        },
        "execution": {
          "iopub.execute_input": "2021-11-10T14:54:46.465505Z",
          "iopub.status.busy": "2021-11-10T14:54:46.464899Z",
          "iopub.status.idle": "2021-11-10T14:54:46.47991Z",
          "shell.execute_reply": "2021-11-10T14:54:46.478859Z",
          "shell.execute_reply.started": "2021-11-10T14:54:46.465474Z"
        },
        "id": "u_GyMRpYZrNb",
        "outputId": "f147b5c8-ae4d-4785-d940-6f3e10a75b55",
        "trusted": true
      },
      "outputs": [
        {
          "data": {
            "text/plain": [
              "0.9910313901345291"
            ]
          },
          "execution_count": 15,
          "metadata": {},
          "output_type": "execute_result"
        }
      ],
      "source": [
        "# Accuracy\n",
        "from sklearn import metrics\n",
        "metrics.accuracy_score(labels_test, labels_pred)"
      ]
    },
    {
      "cell_type": "code",
      "execution_count": 16,
      "metadata": {
        "colab": {
          "base_uri": "https://localhost:8080/"
        },
        "execution": {
          "iopub.execute_input": "2021-11-10T14:54:46.483769Z",
          "iopub.status.busy": "2021-11-10T14:54:46.483468Z",
          "iopub.status.idle": "2021-11-10T14:54:46.495987Z",
          "shell.execute_reply": "2021-11-10T14:54:46.495194Z",
          "shell.execute_reply.started": "2021-11-10T14:54:46.483728Z"
        },
        "id": "V9PwITqSZrNb",
        "outputId": "4c7ed6cf-9f6f-46a6-8354-5173b934efa1",
        "trusted": true
      },
      "outputs": [
        {
          "data": {
            "text/plain": [
              "array([[958,   3],\n",
              "       [  7, 147]], dtype=int64)"
            ]
          },
          "execution_count": 16,
          "metadata": {},
          "output_type": "execute_result"
        }
      ],
      "source": [
        "# Creating confusion matrix for recall and precision\n",
        "metrics.confusion_matrix(labels_test, labels_pred)"
      ]
    },
    {
      "cell_type": "code",
      "execution_count": 19,
      "metadata": {
        "colab": {
          "base_uri": "https://localhost:8080/"
        },
        "execution": {
          "iopub.execute_input": "2021-11-10T14:54:46.498726Z",
          "iopub.status.busy": "2021-11-10T14:54:46.497639Z",
          "iopub.status.idle": "2021-11-10T14:54:46.508279Z",
          "shell.execute_reply": "2021-11-10T14:54:46.507194Z",
          "shell.execute_reply.started": "2021-11-10T14:54:46.498663Z"
        },
        "id": "MklYJ3oWZrNb",
        "outputId": "372235d5-7cc3-4324-a1ad-b3f0d6f10308",
        "trusted": true
      },
      "outputs": [
        {
          "name": "stdout",
          "output_type": "stream",
          "text": [
            "Recall: 0.9545454545454546\n",
            "Precisão: 0.98\n"
          ]
        }
      ],
      "source": [
        "# Percentage of total spams identified -> Recall\n",
        "print(\"Recall:\", metrics.recall_score(labels_test, labels_pred))\n",
        "\n",
        "# Percentage of positive predictions correct -> Precision\n",
        "print(\"Precision:\", metrics.precision_score(labels_test, labels_pred))"
      ]
    },
    {
      "cell_type": "code",
      "execution_count": 20,
      "metadata": {
        "colab": {
          "base_uri": "https://localhost:8080/"
        },
        "execution": {
          "iopub.execute_input": "2021-11-10T14:54:46.509873Z",
          "iopub.status.busy": "2021-11-10T14:54:46.509659Z",
          "iopub.status.idle": "2021-11-10T14:54:46.520941Z",
          "shell.execute_reply": "2021-11-10T14:54:46.519906Z",
          "shell.execute_reply.started": "2021-11-10T14:54:46.509847Z"
        },
        "id": "nQgii78_ZrNb",
        "outputId": "dd4dbac9-5824-4cf9-b7d7-31f4785c28cb",
        "trusted": true
      },
      "outputs": [
        {
          "name": "stdout",
          "output_type": "stream",
          "text": [
            "Order of classes in predict_proba: [0 1]\n",
            "Examples of classes of probabilities: [9.99999996e-01 4.38407077e-09]\n"
          ]
        }
      ],
      "source": [
        "print(\"Order of classes in predict_proba:\", nb.classes_)\n",
        "print(\"Examples of classes of probabilities:\", nb.predict_proba(dtm_test)[0])"
      ]
    },
    {
      "cell_type": "code",
      "execution_count": 21,
      "metadata": {
        "execution": {
          "iopub.execute_input": "2021-11-10T14:54:46.522886Z",
          "iopub.status.busy": "2021-11-10T14:54:46.522401Z",
          "iopub.status.idle": "2021-11-10T14:54:46.533637Z",
          "shell.execute_reply": "2021-11-10T14:54:46.532659Z",
          "shell.execute_reply.started": "2021-11-10T14:54:46.522845Z"
        },
        "id": "nLfxdtQCZrNb",
        "trusted": true
      },
      "outputs": [],
      "source": [
        "# Since just ~15% of instances are positives (spam), precision-recall curve is better tan ROC curve\n",
        "\n",
        "labels_prob = nb.predict_proba(dtm_test)[:, 1]\n",
        "precisions, recalls, thresholds = metrics.precision_recall_curve(labels_test, labels_prob)"
      ]
    },
    {
      "cell_type": "code",
      "execution_count": 22,
      "metadata": {
        "colab": {
          "base_uri": "https://localhost:8080/",
          "height": 641
        },
        "execution": {
          "iopub.execute_input": "2021-11-10T14:54:46.535742Z",
          "iopub.status.busy": "2021-11-10T14:54:46.535432Z",
          "iopub.status.idle": "2021-11-10T14:54:46.721302Z",
          "shell.execute_reply": "2021-11-10T14:54:46.720707Z",
          "shell.execute_reply.started": "2021-11-10T14:54:46.535702Z"
        },
        "id": "r-UBVoYmZrNb",
        "outputId": "e6e7855d-fd82-4ad7-9aa4-110ed5c1f7c1",
        "trusted": true
      },
      "outputs": [
        {
          "data": {
            "image/png": "[encoded data removed]",
            "text/plain": [
              "<Figure size 1000x700 with 1 Axes>"
            ]
          },
          "metadata": {},
          "output_type": "display_data"
        }
      ],
      "source": [
        "import matplotlib.pyplot as plt\n",
        "plt.figure(figsize=(10, 7))\n",
        "plt.plot(precisions[:-1], recalls[:-1])\n",
        "plt.xlabel(\"Recalls\")\n",
        "plt.xticks(np.arange(0, 1.1, 0.1))\n",
        "plt.ylabel(\"Precisão\")\n",
        "plt.yticks(np.arange(0, 1.1, 0.1))\n",
        "plt.title(\"Curva Precisão-Recall\")\n",
        "plt.show()"
      ]
    },
    {
      "cell_type": "markdown",
      "metadata": {
        "id": "fYI2KebRf1L4"
      },
      "source": [
        "# Método Proposto"
      ]
    },
    {
      "cell_type": "code",
      "execution_count": 23,
      "metadata": {
        "colab": {
          "base_uri": "https://localhost:8080/",
          "height": 206
        },
        "id": "3pZvO9Ywf5qS",
        "outputId": "efc13cb3-ff44-47a2-ed30-595323eafafd"
      },
      "outputs": [
        {
          "data": {
            "text/html": [
              "<div>\n",
              "<style scoped>\n",
              "    .dataframe tbody tr th:only-of-type {\n",
              "        vertical-align: middle;\n",
              "    }\n",
              "\n",
              "    .dataframe tbody tr th {\n",
              "        vertical-align: top;\n",
              "    }\n",
              "\n",
              "    .dataframe thead th {\n",
              "        text-align: right;\n",
              "    }\n",
              "</style>\n",
              "<table border=\"1\" class=\"dataframe\">\n",
              "  <thead>\n",
              "    <tr style=\"text-align: right;\">\n",
              "      <th></th>\n",
              "      <th>label</th>\n",
              "      <th>message</th>\n",
              "    </tr>\n",
              "  </thead>\n",
              "  <tbody>\n",
              "    <tr>\n",
              "      <th>0</th>\n",
              "      <td>ham</td>\n",
              "      <td>Go until jurong point, crazy.. Available only ...</td>\n",
              "    </tr>\n",
              "    <tr>\n",
              "      <th>1</th>\n",
              "      <td>ham</td>\n",
              "      <td>Ok lar... Joking wif u oni...</td>\n",
              "    </tr>\n",
              "    <tr>\n",
              "      <th>2</th>\n",
              "      <td>spam</td>\n",
              "      <td>Free entry in 2 a wkly comp to win FA Cup fina...</td>\n",
              "    </tr>\n",
              "    <tr>\n",
              "      <th>3</th>\n",
              "      <td>ham</td>\n",
              "      <td>U dun say so early hor... U c already then say...</td>\n",
              "    </tr>\n",
              "    <tr>\n",
              "      <th>4</th>\n",
              "      <td>ham</td>\n",
              "      <td>Nah I don't think he goes to usf, he lives aro...</td>\n",
              "    </tr>\n",
              "  </tbody>\n",
              "</table>\n",
              "</div>"
            ],
            "text/plain": [
              "  label                                            message\n",
              "0   ham  Go until jurong point, crazy.. Available only ...\n",
              "1   ham                      Ok lar... Joking wif u oni...\n",
              "2  spam  Free entry in 2 a wkly comp to win FA Cup fina...\n",
              "3   ham  U dun say so early hor... U c already then say...\n",
              "4   ham  Nah I don't think he goes to usf, he lives aro..."
            ]
          },
          "execution_count": 23,
          "metadata": {},
          "output_type": "execute_result"
        }
      ],
      "source": [
        "import numpy as np\n",
        "import pandas as pd\n",
        "\n",
        "sms = pd.read_csv(\"./spam.csv\", encoding = \"ISO-8859-1\", usecols=[0,1], skiprows=1, names=[\"label\", \"message\"])\n",
        "sms.head()"
      ]
    },
    {
      "cell_type": "code",
      "execution_count": 24,
      "metadata": {
        "colab": {
          "base_uri": "https://localhost:8080/"
        },
        "id": "Z4v568HOimXo",
        "outputId": "52637347-726d-4bd1-eb4f-68a287b73ac1"
      },
      "outputs": [
        {
          "data": {
            "text/plain": [
              "label\n",
              "0    4825\n",
              "1     747\n",
              "Name: count, dtype: int64"
            ]
          },
          "execution_count": 24,
          "metadata": {},
          "output_type": "execute_result"
        }
      ],
      "source": [
        "sms.label = sms.label.map({\"ham\":0, \"spam\":1})\n",
        "sms.label.value_counts()"
      ]
    },
    {
      "cell_type": "code",
      "execution_count": 25,
      "metadata": {
        "id": "hyVRR3gvivHk"
      },
      "outputs": [],
      "source": [
        "from sklearn.model_selection import train_test_split\n",
        "\n",
        "features_train, features_test, labels_train, labels_test_svm = train_test_split(sms.message,\n",
        "                                                                            sms.label,\n",
        "                                                                            test_size=0.2)"
      ]
    },
    {
      "cell_type": "markdown",
      "metadata": {
        "id": "7J33ji--gIbD"
      },
      "source": [
        "## 1. Text Preprocessing\n",
        "Text preprocessing is important for removing any noise that may be present, leaving only the content that is most relevant for classifying the text as SPAM or HAM. Therefore, the following actions were performed on the text:\n",
        "\n",
        "*   Converts all characters to lowercase\n",
        "*   Removes punctuation, numbers, and other non-textual elements\n",
        "*   Removes common words that do not have significant meaning for the analysis (stopwords)\n",
        "*   Applies the technique of stemming to reduce words to their roots"
      ]
    },
    {
      "cell_type": "code",
      "execution_count": 26,
      "metadata": {
        "colab": {
          "base_uri": "https://localhost:8080/"
        },
        "id": "W0MKSprxgMVR",
        "outputId": "88d23a2b-3659-486c-e01e-717d50c22789"
      },
      "outputs": [
        {
          "ename": "ModuleNotFoundError",
          "evalue": "No module named 'nltk'",
          "output_type": "error",
          "traceback": [
            "\u001b[1;31m---------------------------------------------------------------------------\u001b[0m",
            "\u001b[1;31mModuleNotFoundError\u001b[0m                       Traceback (most recent call last)",
            "Cell \u001b[1;32mIn[26], line 2\u001b[0m\n\u001b[0;32m      1\u001b[0m \u001b[38;5;28;01mimport\u001b[39;00m \u001b[38;5;21;01mre\u001b[39;00m\n\u001b[1;32m----> 2\u001b[0m \u001b[38;5;28;01mimport\u001b[39;00m \u001b[38;5;21;01mnltk\u001b[39;00m\n\u001b[0;32m      3\u001b[0m \u001b[38;5;28;01mfrom\u001b[39;00m \u001b[38;5;21;01mnltk\u001b[39;00m\u001b[38;5;21;01m.\u001b[39;00m\u001b[38;5;21;01mcorpus\u001b[39;00m \u001b[38;5;28;01mimport\u001b[39;00m stopwords\n\u001b[0;32m      4\u001b[0m \u001b[38;5;28;01mfrom\u001b[39;00m \u001b[38;5;21;01mnltk\u001b[39;00m\u001b[38;5;21;01m.\u001b[39;00m\u001b[38;5;21;01mstem\u001b[39;00m \u001b[38;5;28;01mimport\u001b[39;00m SnowballStemmer\n",
            "\u001b[1;31mModuleNotFoundError\u001b[0m: No module named 'nltk'"
          ]
        }
      ],
      "source": [
        "import re\n",
        "import nltk\n",
        "from nltk.corpus import stopwords\n",
        "from nltk.stem import SnowballStemmer\n",
        "\n",
        "# Faz download das stopwords\n",
        "nltk.download('stopwords')\n",
        "\n",
        "stemmer = SnowballStemmer('english')\n",
        "stop = set(stopwords.words('english'))\n",
        "\n",
        "def pre_processamento(texto):\n",
        "    # Converte todos os caracteres para minúsculo\n",
        "    texto = texto.lower()\n",
        "\n",
        "    # Remove pontuação, números e caracteres não textuais\n",
        "    texto = re.sub('[^a-zA-Z]', ' ', texto)\n",
        "\n",
        "    # Realiza o stemming e remove as stopwords\n",
        "    texto = ' '.join(stemmer.stem(word) for word in texto.split() if word not in stop)\n",
        "    return texto\n",
        "\n",
        "sms['message'] = sms['message'].apply(pre_processamento)"
      ]
    },
    {
      "cell_type": "markdown",
      "metadata": {
        "id": "PffMfz0pj7Pv"
      },
      "source": [
        "## 2. Extração das Features\n",
        "Em vez de usar o 'CountVectorizer' será usado o 'TfidfVectorizes' da biblioteca scikit-learn. Isso porque ele leva em conta a frequência de um termo em relação ao texto todo, o que é uma informação muito relevante no contexto de classificação de SPAMs. Ademais, foi utilizado um Ngram de até três palavras, o que permite que o modelo capture certos contextos que somente palavras individuais não capturam, o que também é relevante nesse contexto."
      ]
    },
    {
      "cell_type": "code",
      "execution_count": 771,
      "metadata": {
        "id": "Dh_hQ7tfkW5F"
      },
      "outputs": [],
      "source": [
        "from sklearn.feature_extraction.text import TfidfVectorizer\n",
        "\n",
        "tfidf = TfidfVectorizer(ngram_range=(1, 3), max_features=5000)\n",
        "dtm_train_tfidf = tfidf.fit_transform(features_train)\n",
        "dtm_test_tfidf = tfidf.transform(features_test)"
      ]
    },
    {
      "cell_type": "markdown",
      "metadata": {
        "id": "MNZtnbUPlGgU"
      },
      "source": [
        "## 3. Modelo\n",
        "Em vez do modelo Multinomial Naive Bayes será usado o classificador Support Vector Machines (SVM)."
      ]
    },
    {
      "cell_type": "code",
      "execution_count": 772,
      "metadata": {
        "id": "nswDpaGolXDR"
      },
      "outputs": [],
      "source": [
        "from sklearn.svm import SVC\n",
        "\n",
        "svm = SVC(kernel='linear', probability=True)\n",
        "svm.fit(dtm_train_tfidf, labels_train)\n",
        "labels_pred_svm = svm.predict(dtm_test_tfidf)"
      ]
    },
    {
      "cell_type": "code",
      "execution_count": 773,
      "metadata": {
        "colab": {
          "base_uri": "https://localhost:8080/"
        },
        "id": "RhXCtwWtufHo",
        "outputId": "7217b6f4-490f-4421-9b80-649e0ee1307f"
      },
      "outputs": [
        {
          "name": "stdout",
          "output_type": "stream",
          "text": [
            "Acurácia:  0.9883408071748879\n",
            "Precisão:  0.9856115107913669\n",
            "Recall:  0.9256756756756757\n",
            "F1 Score:  0.9547038327526132\n"
          ]
        }
      ],
      "source": [
        "print(\"Acurácia: \", metrics.accuracy_score(labels_test_svm, labels_pred_svm))\n",
        "print(\"Precisão: \", metrics.precision_score(labels_test_svm, labels_pred_svm))\n",
        "print(\"Recall: \", metrics.recall_score(labels_test_svm, labels_pred_svm))\n",
        "print(\"F1 Score: \", metrics.f1_score(labels_test_svm, labels_pred_svm))"
      ]
    },
    {
      "cell_type": "code",
      "execution_count": 774,
      "metadata": {
        "colab": {
          "base_uri": "https://localhost:8080/",
          "height": 641
        },
        "id": "L7HpTmrkuwEc",
        "outputId": "ea6cc466-1129-4747-ee12-4c0c955d598c"
      },
      "outputs": [
        {
          "data": {
            "image/png": "[encoded data removed]",
            "text/plain": [
              "<Figure size 1000x700 with 1 Axes>"
            ]
          },
          "metadata": {},
          "output_type": "display_data"
        }
      ],
      "source": [
        "dtm_test_tfidf = tfidf.transform(features_test)\n",
        "probs_svm = svm.predict_proba(dtm_test_tfidf)[:,1]\n",
        "\n",
        "precision_svm, recall_svm, thresholds_svm = metrics.precision_recall_curve(labels_test_svm, probs_svm)\n",
        "\n",
        "auc_svm = metrics.auc(recall, precision)\n",
        "\n",
        "plt.figure(figsize=(10, 7))\n",
        "plt.plot(recall_svm, precision_svm, label=f'Modelo proposto (AUC = {auc_svm:.2f})')\n",
        "plt.xlabel('Recall')\n",
        "plt.ylabel('Precisão')\n",
        "plt.title('Curva Precisão-Recall')\n",
        "plt.legend(loc=\"upper right\")\n",
        "plt.show()"
      ]
    },
    {
      "cell_type": "markdown",
      "metadata": {
        "id": "V40aRJlVtrd2"
      },
      "source": [
        "# Comparação dos modelos"
      ]
    },
    {
      "cell_type": "code",
      "execution_count": 775,
      "metadata": {
        "colab": {
          "base_uri": "https://localhost:8080/"
        },
        "id": "lPCcs6U9liNF",
        "outputId": "f32ef1b0-ea38-47e0-da71-077385654bf7"
      },
      "outputs": [
        {
          "name": "stdout",
          "output_type": "stream",
          "text": [
            "Acurácia\n",
            "Original:  0.9847533632286996\n",
            "Proposto:  0.9883408071748879 \n",
            "\n",
            "Precisão\n",
            "Original:  0.9705882352941176\n",
            "Proposto:  0.9856115107913669 \n",
            "\n",
            "Recall\n",
            "Original:  0.9103448275862069\n",
            "Proposto:  0.9256756756756757 \n",
            "\n",
            "F1 Score\n",
            "Original:  0.9395017793594306\n",
            "Proposto:  0.9547038327526132 \n",
            "\n"
          ]
        }
      ],
      "source": [
        "print(\"Acurácia\")\n",
        "print(\"Original: \", metrics.accuracy_score(labels_test, labels_pred))\n",
        "print(\"Proposto: \", metrics.accuracy_score(labels_test_svm, labels_pred_svm), \"\\n\")\n",
        "\n",
        "print(\"Precisão\")\n",
        "print(\"Original: \", metrics.precision_score(labels_test, labels_pred))\n",
        "print(\"Proposto: \", metrics.precision_score(labels_test_svm, labels_pred_svm), \"\\n\")\n",
        "\n",
        "print(\"Recall\")\n",
        "print(\"Original: \", metrics.recall_score(labels_test, labels_pred))\n",
        "print(\"Proposto: \", metrics.recall_score(labels_test_svm, labels_pred_svm), \"\\n\")\n",
        "\n",
        "print(\"F1 Score\")\n",
        "print(\"Original: \", metrics.f1_score(labels_test, labels_pred))\n",
        "print(\"Proposto: \", metrics.f1_score(labels_test_svm, labels_pred_svm), \"\\n\")"
      ]
    },
    {
      "cell_type": "code",
      "execution_count": 776,
      "metadata": {
        "colab": {
          "base_uri": "https://localhost:8080/",
          "height": 641
        },
        "id": "Odn5M_bJw0Hj",
        "outputId": "57917562-2c72-4eb2-94ca-7bc11500c002"
      },
      "outputs": [
        {
          "data": {
            "image/png": "[encoded data removed]",
            "text/plain": [
              "<Figure size 1000x700 with 1 Axes>"
            ]
          },
          "metadata": {},
          "output_type": "display_data"
        }
      ],
      "source": [
        "auc = metrics.auc(recalls, precisions)\n",
        "\n",
        "plt.figure(figsize=(10, 7))\n",
        "plt.plot(recalls, precisions, label=f'Modelo original (AUC = {auc:.2f})')\n",
        "plt.plot(recall_svm, precision_svm, label=f'Model proposto (AUC = {auc_svm:.2f})')\n",
        "plt.xlabel('Recall')\n",
        "plt.ylabel('Precisão')\n",
        "plt.title('Curva Precisão-Recall')\n",
        "plt.legend(loc=\"upper right\")\n",
        "plt.show()"
      ]
    },
    {
      "cell_type": "markdown",
      "metadata": {
        "id": "6OEjoLvJyxoC"
      },
      "source": [
        "### Análise\n",
        "Os dados obtidos no presente teste foram os seguintes:\n",
        "\n",
        "**Acurácia**\n",
        "* Original:  97.76%\n",
        "* Proposto:  98.92%\n",
        "\n",
        "**Precisão**\n",
        "* Original:  95.17%\n",
        "* Proposto:  100%\n",
        "\n",
        "**Recall**\n",
        "* Original:  88.46%\n",
        "* Proposto:  91.55%\n",
        "\n",
        "**F1 Score**\n",
        "* Original:  91.69%\n",
        "* Proposto:  95.59%\n",
        "\n",
        "Assim, foi observada uma melhora em todas essas métricas indicando uma melhoria do modelo proposto em relação ao original. Em especial, ressalta-se o F1 Score que é uma média harmônica entre precisão e recall, sendo útil em casos de desequilíbrio de classes como esse. Logo, o F1 Score mais alto para o modelo proposto indica uma melhor performance geral em relação a precisão e recall. Ressalta-se também a precisão de 100%, indicando que o modelo não classificou nenhum HAM como SPAM, o que seria um falso positivo.\n",
        "\n",
        "Ademais, houve uma melhoria no AUC (Área soba a curva) do modelo proposto em relação ao original indicando que o modelo proposto apresenta uma melhor capacidade de prever se uma mensagem é SPAM ou HAM do que o original."
      ]
    }
  ],
  "metadata": {
    "colab": {
      "provenance": []
    },
    "kernelspec": {
      "display_name": "Python 3",
      "language": "python",
      "name": "python3"
    },
    "language_info": {
      "codemirror_mode": {
        "name": "ipython",
        "version": 3
      },
      "file_extension": ".py",
      "mimetype": "text/x-python",
      "name": "python",
      "nbconvert_exporter": "python",
      "pygments_lexer": "ipython3",
      "version": "3.11.7"
    }
  },
  "nbformat": 4,
  "nbformat_minor": 0
}
